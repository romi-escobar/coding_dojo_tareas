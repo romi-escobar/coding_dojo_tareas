{
 "cells": [
  {
   "cell_type": "markdown",
   "id": "fd01dab1",
   "metadata": {},
   "source": [
    "# **Bucles for: Básico 1 (Core)**\n",
    "**Objetivos**\n",
    "\n",
    "* Practicar el uso de sentencias básicas for en Python\n",
    "* Poner en práctica los algoritmos básicos en Python\n",
    "\n",
    "Crea un archivo de Python llamado bucle_for_basico1.py y realiza lo presentado a continuación:\n",
    "\n",
    "1. **Básico:** imprime todos los números enteros del 0 al 100.\n",
    "2. **Múltiples de 2:** imprime todos los números múltiplos de 2 entre 2 y 500\n",
    "3. **Contando Vanilla Ice:** imprime los números enteros del 1 al 100. Si es divisible por 5 imprime “ice ice” en vez del número. Si es divisible por 10, imprime “baby”\n",
    "4. **Wow. Número gigante a la vista:** suma los números pares del 0 al 500,000 e imprime la suma total. (Sorpresa, será un número gigante).\n",
    "5. **Regrésame al 3:** imprime los números positivos comenzando desde 2024, en cuenta regresiva de 3 en 3.\n",
    "6. **Contador dinámico:** establece tres variables: numInicial, numFinal y multiplo. Comenzando en numInicial y pasando por numFinal, imprime los números enteros que sean múltiplos de multiplo. Por ejemplo: si numInicial = 3, numFinal = 10, y multiplo = 2, el bucle debería de imprimir 4, 6, 8, 10 (en líneas sucesivas).\n",
    "\n",
    "* Crea el archivo un Python llamado bucle_for_básico1.py\n",
    "* Codifica el ejercicio 1. Básico\n",
    "* Codifica el ejercicio 2. Múltiples de 2\n",
    "* Codifica el ejercicio 3. Contando Vanilla Ice\n",
    "* Codifica el ejercicio 4. Wow. Número gigante a la vista\n",
    "* Codifica el ejercicio 5. Regrésame al 3\n",
    "* Codifica el ejercicio 6. Contador dinámico\n",
    "\n",
    "**Nota**: Te recomendamos tener en cuenta que por temas de seguridad el sistema no permite carga de archivos .py directamente, por lo tanto, te sugerimos agregar el link de GitHub con la tarea o si deseas adjuntar el archivo comprimido. "
   ]
  }
 ],
 "metadata": {
  "language_info": {
   "name": "python"
  }
 },
 "nbformat": 4,
 "nbformat_minor": 5
}
