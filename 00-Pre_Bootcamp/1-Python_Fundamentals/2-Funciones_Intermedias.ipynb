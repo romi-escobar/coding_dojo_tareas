{
 "cells": [
  {
   "cell_type": "markdown",
   "id": "4afb50df",
   "metadata": {},
   "source": [
    "# **Funciones intermedias (Core)**\n",
    "**Objetivos**\n",
    "\n",
    "* Poner en práctica la iteración de diccionarios y la creación de funciones\n",
    "* Comprender mejor los recorridos de diccionarios de listas y listas de diccionarios\n",
    "\n",
    "1. **Actualizar valores en diccionarios y listas**"
   ]
  },
  {
   "cell_type": "code",
   "execution_count": null,
   "id": "4f5fd727",
   "metadata": {},
   "outputs": [],
   "source": [
    "matriz = [ [10, 15, 20], [3, 7, 14] ]\n",
    "cantantes = [\n",
    "    {\"nombre\": \"Ricky Martin\", \"pais\": \"Puerto Rico\"},\n",
    "    {\"nombre\": \"Chayanne\", \"pais\": \"Puerto Rico\"}\n",
    "]\n",
    "\n",
    "ciudades = {\n",
    "    \"México\": [\"Ciudad de México\", \"Guadalajara\", \"Cancún\"],\n",
    "    \"Chile\": [\"Santiago\", \"Concepción\", \"Viña del Mar\"]\n",
    "}\n",
    "\n",
    "coordenadas = [\n",
    "    {\"latitud\": 8.2588997, \"longitud\": -84.9399704}\n",
    "]"
   ]
  },
  {
   "cell_type": "markdown",
   "id": "2bbf9eb2",
   "metadata": {},
   "source": [
    "* Cambia el valor de 3 en matriz por 6. Una vez realizado el cambio tu matriz debería ser: [ [10, 15, 20], [6, 7, 14] ]\n",
    "* Cambia el nombre del primer cantante de “Ricky Martin” a “Enrique Martin Morales”\n",
    "* En ciudades, cambia “Cancún” por “Monterrey”\n",
    "* En las coordenadas, cambia el valor de “latitud” por 9.9355431\n",
    "\n",
    "2. **Iterar a través de una lista de diccionarios**\n",
    "\n",
    "Crea la función iterarDiccionario(lista) que reciba una lista de diccionarios y recorra cada diccionario de la lista e imprima cada llave y el valor correspondiente. Por ejemplo:"
   ]
  },
  {
   "cell_type": "code",
   "execution_count": null,
   "id": "0982f5aa",
   "metadata": {},
   "outputs": [],
   "source": [
    "cantantes = [\n",
    "    {\"nombre\": \"Ricky Martin\", \"pais\": \"Puerto Rico\"},\n",
    "    {\"nombre\": \"Chayanne\", \"pais\": \"Puerto Rico\"},\n",
    "    {\"nombre\": \"José José\", \"pais\": \"México\"},\n",
    "    {\"nombre\": \"Juan Luis Guerra\", \"pais\": \"República Dominicana\"}\n",
    "]\n",
    "\n",
    "iterarDiccionario(cantantes)"
   ]
  },
  {
   "cell_type": "code",
   "execution_count": null,
   "id": "a136a476",
   "metadata": {},
   "outputs": [],
   "source": [
    "#Imprime \"nombre\": \"Ricky Martin\", \"pais\": \"Puerto Rico\" (está bien si lo imprime en líneas separadas)\n",
    "\n",
    "#BONUS: Que aparezcan en este formato:\n",
    "nombre - Ricky Martin, pais - Puerto Rico\n",
    "nombre - Chayanne, pais - Puerto Rico\n",
    "nombre - José José, pais - México\n",
    "nombre - Juan Luis Guerra, pais - República Dominicana"
   ]
  },
  {
   "cell_type": "markdown",
   "id": "5119f36d",
   "metadata": {},
   "source": [
    "3. **Obtener valores de una lista de diccionarios**\n",
    "\n",
    "Crea la función iterarDiccionario2(llave, lista) que reciba una cadena con el nombre de una llave y una lista de diccionarios. La función debe imprimir el valor almacenado para esa clave de cada diccionario que se encuentra en la lista. Por ejemplo, iterarDiccionario2(“nombre”, cantantes) debe de imprimir:"
   ]
  },
  {
   "cell_type": "code",
   "execution_count": null,
   "id": "63e23aa3",
   "metadata": {},
   "outputs": [],
   "source": [
    "Ricky Martin\n",
    "Chayanne\n",
    "José José\n",
    "Juan Luis Guerra"
   ]
  },
  {
   "cell_type": "markdown",
   "id": "b2bad857",
   "metadata": {},
   "source": [
    "Otro ejemplo: iterarDiccionario2(“pais”, cantantes) debe de imprimir:"
   ]
  },
  {
   "cell_type": "code",
   "execution_count": null,
   "id": "32c6d43c",
   "metadata": {},
   "outputs": [],
   "source": [
    "Puerto Rico\n",
    "Puerto Rico\n",
    "México\n",
    "República Dominicana"
   ]
  },
  {
   "cell_type": "markdown",
   "id": "089eea43",
   "metadata": {},
   "source": [
    "4. **Iterar a través de un diccionario con valores de lista**\n",
    "\n",
    "Crea una función imprimirInformacion(diccionario) que reciba un diccionario en donde los valores son listas. La función debe imprimir el nombre de cada clave junto con el tamaño de su lista y seguido de esto los valores de la lista para esa clave. Por ejemplo:"
   ]
  },
  {
   "cell_type": "code",
   "execution_count": null,
   "id": "87c10716",
   "metadata": {},
   "outputs": [],
   "source": [
    "costa_rica = {\n",
    "    \"ciudades\": [\"San José\", \"Limón\", \"Cartago\", \"Puntarenas\"],\n",
    "    \"comidas\": [\"gallo pinto\", \"casado\", \"tamales\", \"chifrijo\", \"olla de carne\"]\n",
    "}\n",
    "\n",
    "#imprime:\n",
    "4 CIUDADES\n",
    "San José\n",
    "Limón\n",
    "Cartago\n",
    "Puntarenas\n",
    "\n",
    "5 COMIDAS\n",
    "gallo pinto\n",
    "casado\n",
    "tamales\n",
    "chifrijo\n",
    "olla de carne"
   ]
  },
  {
   "cell_type": "markdown",
   "id": "5a424556",
   "metadata": {},
   "source": [
    "* Crea el archivo un Python llamado funciones_intermedias_1.py\n",
    "* Actualiza los valores en diccionarios y listas\n",
    "* Crea la función iterarDiccionario(lista)\n",
    "* Crea la función iterarDiccionario2(llave, lista)\n",
    "* Crea la función imprimirInformacion(diccionario)\n",
    "\n",
    "**Nota**: Te recomendamos tener en cuenta que por temas de seguridad el sistema no permite carga de archivos .py directamente, por lo tanto, te sugerimos agregar el link de GitHub con la tarea o si deseas adjuntar el archivo comprimido. "
   ]
  }
 ],
 "metadata": {
  "kernelspec": {
   "display_name": "base",
   "language": "python",
   "name": "python3"
  },
  "language_info": {
   "name": "python",
   "version": "3.12.3"
  }
 },
 "nbformat": 4,
 "nbformat_minor": 5
}
