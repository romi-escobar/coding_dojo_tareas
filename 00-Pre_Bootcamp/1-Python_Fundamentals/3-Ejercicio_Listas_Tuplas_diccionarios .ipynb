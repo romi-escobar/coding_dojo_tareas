{
 "cells": [
  {
   "cell_type": "markdown",
   "id": "0c946b50",
   "metadata": {},
   "source": [
    "# **Ejercicios Listas, Tuplas y diccionarios (Core)**\n",
    "**Objetivo:** Utilizar listas, tuplas y diccionarios para realizar un análisis básico de datos de ventas utilizando Python.\n",
    "\n",
    "**Instrucciones Detalladas**\n",
    "\n",
    "1. **Carga de Datos:**\n",
    "* Crea una lista de diccionarios llamada ventas, donde cada diccionario represente una venta. Cada venta debe incluir las siguientes claves:\n",
    "    * “fecha”: una cadena de texto que represente la fecha de la venta (por ejemplo, “2024-01-01”).\n",
    "    * “producto”: una cadena de texto que represente el nombre del producto vendido.\n",
    "    * “cantidad”: un número entero que represente la cantidad de productos vendidos.\n",
    "    * “precio”: un número flotante que represente el precio unitario del producto.\n",
    "2. **Cálculo de Ingresos Totales:**\n",
    "* Utiliza un bucle para iterar sobre la lista ventas y calcular los ingresos totales generados por todas las ventas. Los ingresos totales se calculan multiplicando la cantidad vendida por el precio unitario para cada venta y sumando los resultados.\n",
    "3. **Análisis del Producto Más Vendido:**\n",
    "* Crea un diccionario llamado ventas_por_producto donde las claves sean los nombres de los productos y los valores sean la cantidad total vendida de cada producto.\n",
    "* Utiliza este diccionario para identificar el producto que tuvo la mayor cantidad total vendida.\n",
    "4. **Promedio de Precio por Producto:**\n",
    "* Crea un diccionario llamado precios_por_producto donde las claves sean los nombres de los productos y los valores sean tuplas. Cada tupla debe contener dos elementos: la suma de los precios de venta de todas las unidades vendidas y la cantidad total de unidades vendidas.\n",
    "* Calcula el precio promedio de venta para cada producto utilizando la información de este diccionario.\n",
    "5. **Ventas por Día:**\n",
    "* Crea un diccionario llamado ingresos_por_dia donde las claves sean las fechas y los valores sean los ingresos totales generados en cada día.\n",
    "* Utiliza un bucle para calcular los ingresos totales por día y almacenar estos valores en el diccionario.\n",
    "6. **Representación de Datos:**\n",
    "* Crea un diccionario llamado resumen_ventas donde las claves sean los nombres de los productos y los valores sean diccionarios anidados. Cada diccionario anidado debe contener:\n",
    "    * “cantidad_total”: la cantidad total vendida del producto.\n",
    "    * “ingresos_totales”: los ingresos totales generados por la venta del producto.\n",
    "    * “precio_promedio”: el precio promedio de venta del producto.\n",
    "\n",
    "**Entrega:** Presenta tus resultados en un archivo de texto o una hoja de cálculo. Detalla cada paso del análisis y los resultados obtenidos. Asegúrate de incluir:\n",
    "\n",
    "* La lista de ventas original.\n",
    "* Los ingresos totales generados.\n",
    "* El producto más vendido y su cantidad total vendida.\n",
    "* El precio promedio de venta por producto.\n",
    "* Los ingresos totales por día.\n",
    "* El resumen de ventas por producto."
   ]
  }
 ],
 "metadata": {
  "language_info": {
   "name": "python"
  }
 },
 "nbformat": 4,
 "nbformat_minor": 5
}
