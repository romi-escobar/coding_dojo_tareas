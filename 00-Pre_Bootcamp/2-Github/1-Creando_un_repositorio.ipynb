{
 "cells": [
  {
   "cell_type": "markdown",
   "id": "b9811da8",
   "metadata": {},
   "source": [
    "# **Creando un repositorio (Core)**\n",
    "Crear un repositorio es el primer paso para iniciar un proyecto con Git. Un repositorio es simplemente un contenedor para tu proyecto que almacena todos tus archivos y el historial de cambios.\n",
    "\n",
    "*Pasos para Crear un Repositorio Localmente*\n",
    "\n",
    " 1. **Inicializar un Nuevo Repositorio:**\n",
    "\n",
    "`mkdir mi_proyecto`\n",
    "`cd mi_proyecto`\n",
    "`git init`\n",
    "\n",
    "Esto crea un nuevo repositorio Git en el directorio actual.\n",
    "\n",
    " 2. **Añadir Archivos al Repositorio:**\n",
    "\n",
    "`echo \"# Mi Proyecto\" > README.md`\n",
    "`git add README.md`\n",
    "`git commit -m \"Primer commit: añadir README.md\"`\n",
    "\n",
    " 3. **Crear un Repositorio en GitHub:**\n",
    "\n",
    "* Navega a GitHub e inicia sesión.\n",
    "* Haz clic en el botón “New” para crear un nuevo repositorio.\n",
    "* Rellena el formulario con el nombre del repositorio, una descripción (opcional), y selecciona si quieres que sea público o privado.\n",
    "* Haz clic en “Create repository”.\n",
    " \n",
    " 4. **Enlazar el Repositorio Local con GitHub:**\n",
    "\n",
    "`git branch -M main`\n",
    "`git remote add origin https://github.com/tu_usuario/mi_proyecto.git`\n",
    "`git push -u origin main`\n",
    "\n",
    "**Nota**\n",
    "\n",
    "Para asegurarte de que has completado con éxito la creación de tu repositorio y que todos los pasos se han seguido correctamente, es recomendable tomar una captura de pantalla o proporcionar un enlace que demuestre la finalización de la actividad principal.\n",
    "\n",
    "Por ejemplo, puedes tomar una captura de pantalla del repositorio recién creado en GitHub que muestre el README.md y el historial de commits. Alternativamente, puedes proporcionar un enlace al repositorio en GitHub para que otros puedan verificarlo. Aquí tienes un ejemplo de cómo podrías hacerlo:\n",
    "\n",
    "1. Captura de Pantalla:\n",
    "* Después de realizar el primer push a GitHub, navega a tu repositorio en GitHub y asegúrate de que el archivo README.md se muestra correctamente.\n",
    "* Toma una captura de pantalla que incluya la lista de archivos y el mensaje del commit.\n",
    "2. Enlace al Repositorio:\n",
    "* Una vez que hayas completado todos los pasos y tu repositorio esté en GitHub, copia la URL de tu repositorio.\n",
    "* Incluye el enlace en tu documentación o en el lugar donde se requiera la prueba de finalización."
   ]
  }
 ],
 "metadata": {
  "language_info": {
   "name": "python"
  }
 },
 "nbformat": 4,
 "nbformat_minor": 5
}
