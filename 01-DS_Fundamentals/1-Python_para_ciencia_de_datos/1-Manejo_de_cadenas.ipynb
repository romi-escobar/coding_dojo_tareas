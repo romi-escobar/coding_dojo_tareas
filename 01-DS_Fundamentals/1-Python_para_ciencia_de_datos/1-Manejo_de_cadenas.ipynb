{
 "cells": [
  {
   "cell_type": "markdown",
   "metadata": {
    "id": "GYLo6DYNyPOC"
   },
   "source": [
    "### **Ejercicio 1:** Saludo Personalizado\n",
    "\n",
    "Crea un programa que pida al usuario su nombre y edad, y luego imprima un saludo personalizado.\n",
    "* Usa input para capturar el nombre y la edad.\n",
    "* Usa print para mostrar el saludo.\n"
   ]
  },
  {
   "cell_type": "markdown",
   "metadata": {
    "id": "MTkHsFKrz4Em"
   },
   "source": [
    "**Lógica o Análisis:**\n",
    "* Se debe solicitar al usuario su nombre\n",
    "* Se debe solicitar al usuario su edad\n",
    "* Imprimir un mensaje predeterminado que utilice los datos suministrados por el usuario (almacenados en variables)"
   ]
  },
  {
   "cell_type": "code",
   "execution_count": 1,
   "metadata": {
    "colab": {
     "base_uri": "https://localhost:8080/"
    },
    "executionInfo": {
     "elapsed": 19946,
     "status": "ok",
     "timestamp": 1728170404395,
     "user": {
      "displayName": "Romi Escobar",
      "userId": "07614127269058512383"
     },
     "user_tz": 240
    },
    "id": "4iVDXWvZyE1l",
    "outputId": "1db6080f-b121-433d-a7ea-53dea10f6807"
   },
   "outputs": [
    {
     "name": "stdout",
     "output_type": "stream",
     "text": [
      "Por favor, ingrese su nombre: romi\n",
      "Por favor, ingrese su edad: 36\n",
      "Hola, romi! Tienes 36 años.\n"
     ]
    }
   ],
   "source": [
    "# Solicitar el nombre del usuario\n",
    "name = input(\"Por favor, ingrese su nombre: \")\n",
    "\n",
    "# Solicitar la edad del usuario\n",
    "age = input(\"Por favor, ingrese su edad: \")\n",
    "\n",
    "# Imprimir un saludo personalizado\n",
    "print(f\"Hola, {name}! Tienes {age} años.\")"
   ]
  },
  {
   "cell_type": "markdown",
   "metadata": {
    "id": "Gvu4HB8syQVu"
   },
   "source": [
    "### **Ejercicio 2:** Manipulación de Cadenas\n",
    "\n",
    "Crea una cadena con tu nombre completo.<br>\n",
    "Usa los métodos de cadenas para:\n",
    "* Convertir el nombre a mayúsculas y minúsculas.\n",
    "* Contar el número de letras en tu nombre.\n",
    "* Reemplazar tu primer nombre por otro nombre.\n"
   ]
  },
  {
   "cell_type": "markdown",
   "metadata": {
    "id": "8nHrmI1R8cNf"
   },
   "source": [
    "**Lógica o Análisis:**\n",
    "* Pasar todos los caracteres de la cadena a mayúsculas\n",
    "* Pasar todos los caracteres de la cadena a minúsculas\n",
    "* Se debe contar los caracteres de la cadena, evitando los espacios en blanco\n",
    "* Se debe reemplazar el primer nombre por otro"
   ]
  },
  {
   "cell_type": "code",
   "execution_count": 2,
   "metadata": {
    "colab": {
     "base_uri": "https://localhost:8080/"
    },
    "executionInfo": {
     "elapsed": 19,
     "status": "ok",
     "timestamp": 1728170404396,
     "user": {
      "displayName": "Romi Escobar",
      "userId": "07614127269058512383"
     },
     "user_tz": 240
    },
    "id": "ddgHotq6yQ4j",
    "outputId": "ed2e46fd-68a1-44bf-e186-61f5b7716daf"
   },
   "outputs": [
    {
     "name": "stdout",
     "output_type": "stream",
     "text": [
      "Mi nombre es Evelyn Romina Escobar González\n",
      "Mi nombre en mayúsculas EVELYN ROMINA ESCOBAR GONZÁLEZ\n",
      "Mi nombre en minúsculas evelyn romina escobar gonzález\n",
      "La cantidad de letras en mi nombre es 27\n",
      "Mi nombre no es Alejandra Romina Escobar González\n"
     ]
    }
   ],
   "source": [
    "# Cadena con mi nombre completo\n",
    "name = \"Evelyn Romina Escobar González\"\n",
    "print('Mi nombre es', name)\n",
    "\n",
    "# Convertir el nombre a mayúsculas\n",
    "print('Mi nombre en mayúsculas', name.upper())\n",
    "\n",
    "# Convertir el nombre a minúsculas\n",
    "print('Mi nombre en minúsculas', name.lower())\n",
    "\n",
    "# Contar el numero de letras en el nombre\n",
    "print('La cantidad de letras en mi nombre es', len(name.replace(\" \",\"\")))\n",
    "\n",
    "# Reemplazar el primer nombre por otro nombre\n",
    "print('Mi nombre no es', name.replace('Evelyn', 'Alejandra'))\n"
   ]
  },
  {
   "cell_type": "markdown",
   "metadata": {
    "id": "YneJ2UQdyRdP"
   },
   "source": [
    "### **Ejercicio 3: Lista de Nombres**\n",
    "\n",
    "Pide al usuario que ingrese una lista de nombres separados por comas.<br>\n",
    "Usa split para convertir esta cadena en una lista de nombres.<br>\n",
    "Imprime cada nombre en una línea separada.<br>"
   ]
  },
  {
   "cell_type": "markdown",
   "metadata": {
    "id": "aFp4NrXX6XVJ"
   },
   "source": [
    "**Lógica o Análisis:**\n",
    "* Solicitar al usuario ingresar una lista de nombres separados por comas<br> Realizar esto con la funcion `input()`\n",
    "* Convertir la cadena en una lista de nombres<br>\n",
    "Usar `split()` para dividir la cadena en una lista utilizando un separador\n",
    "* Imprimir cada nombre en una línea separada<br>\n",
    "Usar `strip()` para eliminar espacios en blanco al inicio y al final\n"
   ]
  },
  {
   "cell_type": "code",
   "execution_count": 4,
   "metadata": {
    "colab": {
     "base_uri": "https://localhost:8080/"
    },
    "executionInfo": {
     "elapsed": 9226,
     "status": "ok",
     "timestamp": 1728170450834,
     "user": {
      "displayName": "Romi Escobar",
      "userId": "07614127269058512383"
     },
     "user_tz": 240
    },
    "id": "8egd3I3GyThO",
    "outputId": "09496aa0-0980-43f1-ef01-ede54be772fd"
   },
   "outputs": [
    {
     "name": "stdout",
     "output_type": "stream",
     "text": [
      "Ingresa una lista de nombres separados por comas: romi, ale\n",
      "romi\n",
      "ale\n"
     ]
    }
   ],
   "source": [
    "# Solicitar al usuario que ingrese una lista de nombres separados por comas\n",
    "entrada = input(\"Ingresa una lista de nombres separados por comas: \")\n",
    "\n",
    "# Usar split para convertir la cadena en una lista de nombres\n",
    "nombres = entrada.split(\",\")\n",
    "\n",
    "# Imprimir cada nombre en una línea separada\n",
    "for nombre in nombres:\n",
    "    print(nombre.strip())\n"
   ]
  }
 ],
 "metadata": {
  "colab": {
   "authorship_tag": "ABX9TyPf2weC8Otar8H0vbe3MHD3",
   "provenance": []
  },
  "kernelspec": {
   "display_name": "Python 3",
   "name": "python3"
  },
  "language_info": {
   "name": "python"
  }
 },
 "nbformat": 4,
 "nbformat_minor": 0
}
