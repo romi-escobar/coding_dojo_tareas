{
 "cells": [
  {
   "cell_type": "markdown",
   "metadata": {
    "id": "CtV2aWMcDNGB"
   },
   "source": [
    "**Descripción del Problema**\n",
    "\n",
    "Imagina que estás trabajando como analista de datos para una empresa que recopila información sobre las ventas diarias de diferentes productos en varias tiendas. Necesitas analizar estos datos para extraer información útil y presentar un resumen de las ventas."
   ]
  },
  {
   "cell_type": "markdown",
   "metadata": {
    "id": "i9RPYntCDlb4"
   },
   "source": [
    "**Requisitos del Sistema**\n",
    "\n",
    "El programa debe generar datos de ventas de manera aleatoria para 10 productos diferentes en 5 tiendas distintas durante 7 días (una semana).\n",
    "Los datos deben estar almacenados en un array de NumPy de 3 dimensiones (productos, tiendas, días).\n",
    "\n",
    "Se debe calcular y mostrar la siguiente información:\n",
    "* Total de ventas por producto a lo largo de la semana.\n",
    "* Total de ventas por tienda a lo largo de la semana.\n",
    "* Promedio de ventas por producto por día.\n",
    "* Promedio de ventas por tienda por día.\n",
    "* Producto con mayor y menor ventas totales en la semana.\n",
    "* Tienda con mayor y menor ventas totales en la semana."
   ]
  },
  {
   "cell_type": "markdown",
   "metadata": {
    "id": "a8w2pjw1EGR4"
   },
   "source": [
    "**Detalles Específicos**\n",
    "\n",
    "* Generar los datos de ventas aleatorias usando `np.random.randint`, con valores entre 0 y 100.\n",
    "* Usar funciones de NumPy para calcular las sumas y promedios.\n",
    "* Manejo de posibles errores o valores inesperados.\n",
    "* Presentar los resultados de manera clara y estructurada."
   ]
  },
  {
   "cell_type": "markdown",
   "metadata": {
    "id": "PGQP13rkFPzj"
   },
   "source": [
    "**Consideraciones Adicionales**\n",
    "\n",
    "* Organizar el código utilizando funciones para cada una de las tareas principales.\n",
    "* Usar comentarios para explicar cada sección de tu código.\n",
    "* Asegurar que el código sea robusto y manejar casos en los que los datos generados puedan estar fuera de los rangos esperados."
   ]
  },
  {
   "cell_type": "markdown",
   "metadata": {},
   "source": [
    "**Planilla del Código (Esqueleto)**"
   ]
  },
  {
   "cell_type": "code",
   "execution_count": null,
   "metadata": {},
   "outputs": [],
   "source": [
    "import numpy as np\n",
    "\n",
    "def generar_datos_ventas(productos, tiendas, dias):\n",
    "    # Genera datos de ventas aleatorias para el número de productos, tiendas y días especificados\n",
    "    return np.random.randint(0, 101, (productos, tiendas, dias))\n",
    "\n",
    "def calcular_totales_ventas_por_producto(datos):\n",
    "    # Calcula el total de ventas por producto a lo largo de la semana\n",
    "    return np.sum(datos, axis=(1, 2))\n",
    "\n",
    "def calcular_totales_ventas_por_tienda(datos):\n",
    "    # Calcula el total de ventas por tienda a lo largo de la semana\n",
    "    return np.sum(datos, axis=(0, 2))\n",
    "\n",
    "def calcular_promedio_ventas_por_producto(datos):\n",
    "    # Calcula el promedio de ventas por producto por día\n",
    "    return np.mean(datos, axis=(1, 2))\n",
    "\n",
    "def calcular_promedio_ventas_por_tienda(datos):\n",
    "    # Calcula el promedio de ventas por tienda por día\n",
    "    return np.mean(datos, axis=(0, 2))\n",
    "\n",
    "def encontrar_producto_mayor_menor_ventas(totales_por_producto):\n",
    "    # Encuentra el producto con mayor y menor ventas totales en la semana\n",
    "    producto_mayor_ventas = np.argmax(totales_por_producto)\n",
    "    producto_menor_ventas = np.argmin(totales_por_producto)\n",
    "    return producto_mayor_ventas, producto_menor_ventas\n",
    "\n",
    "def encontrar_tienda_mayor_menor_ventas(totales_por_tienda):\n",
    "    # Encuentra la tienda con mayor y menor ventas totales en la semana\n",
    "    tienda_mayor_ventas = np.argmax(totales_por_tienda)\n",
    "    tienda_menor_ventas = np.argmin(totales_por_tienda)\n",
    "    return tienda_mayor_ventas, tienda_menor_ventas\n",
    "\n",
    "def imprimir_resumen(estudiantes):\n",
    "    # Imprime un resumen con el nombre de los estudiantes, su promedio y su estado\n",
    "    pass\n",
    "\n",
    "productos = 10\n",
    "tiendas = 5\n",
    "dias = 7\n",
    "\n",
    "# Genera los datos de ventas\n",
    "datos = generar_datos_ventas(productos, tiendas, dias)\n",
    "\n",
    "# Calcula los totales y promedios\n",
    "totales_por_producto = calcular_totales_ventas_por_producto(datos)\n",
    "totales_por_tienda = calcular_totales_ventas_por_tienda(datos)\n",
    "promedio_por_producto = calcular_promedio_ventas_por_producto(datos)\n",
    "promedio_por_tienda = calcular_promedio_ventas_por_tienda(datos)\n",
    "\n",
    "# Encuentra el producto y la tienda con mayor y menor ventas\n",
    "producto_mayor_ventas, producto_menor_ventas = encontrar_producto_mayor_menor_ventas(totales_por_producto)\n",
    "tienda_mayor_ventas, tienda_menor_ventas = encontrar_tienda_mayor_menor_ventas(totales_por_tienda)\n",
    "\n",
    "# Imprime los resultados\n",
    "print(\"Total de ventas por producto a lo largo de la semana:\", totales_por_producto)\n",
    "print(\"Total de ventas por tienda a lo largo de la semana:\", totales_por_tienda)\n",
    "print(\"Promedio de ventas por producto por día:\", promedio_por_producto)\n",
    "print(\"Promedio de ventas por tienda por día:\", promedio_por_tienda)\n",
    "print(f\"Producto con mayor ventas: Producto {producto_mayor_ventas}\")\n",
    "print(f\"Producto con menor ventas: Producto {producto_menor_ventas}\")\n",
    "print(f\"Tienda con mayor ventas: Tienda {tienda_mayor_ventas}\")\n",
    "print(f\"Tienda con menor ventas: Tienda {tienda_menor_ventas}\")"
   ]
  },
  {
   "cell_type": "markdown",
   "metadata": {
    "id": "whVUHBbkGWkd"
   },
   "source": [
    "**Lógica o Análisis**\n",
    "* Generar los datos de ventas aleatorias usando np.random.randint, con valores entre 0 y 100, para 10 productos diferentes en 5 tiendas distintas durante 7 días (una semana).<br> Los datos deben estar almacenados en un array de NumPy de 3 dimensiones (productos, tiendas, días).\n",
    "* Calcular, con funciones de Numpy, y mostrar:\n",
    "<br>Total de ventas por producto a lo largo de la semana.\n",
    "<br>Total de ventas por tienda a lo largo de la semana.\n",
    "<br>Promedio de ventas por producto por día.\n",
    "<br>Promedio de ventas por tienda por día.\n",
    "<br>Producto con mayor y menor ventas totales en la semana.\n",
    "<br>Tienda con mayor y menor ventas totales en la semana.\n",
    "* Manejar posibles errores o valores inesperados."
   ]
  },
  {
   "cell_type": "code",
   "execution_count": 9,
   "metadata": {
    "colab": {
     "base_uri": "https://localhost:8080/"
    },
    "executionInfo": {
     "elapsed": 328,
     "status": "ok",
     "timestamp": 1728958258635,
     "user": {
      "displayName": "Romi Escobar",
      "userId": "07614127269058512383"
     },
     "user_tz": 180
    },
    "id": "GG70dRdN6qjF",
    "outputId": "4839def6-7cfb-4f1a-872b-43c3036ed40b"
   },
   "outputs": [
    {
     "name": "stdout",
     "output_type": "stream",
     "text": [
      "\n",
      "Datos de ventas generados (Tiendas x Días):\n",
      "            Tienda 0   Tienda 1   Tienda 2   Tienda 3   Tienda 4 \n",
      "Producto 0 - 75 | 33 | 42 | 85 | 54 | 53 | 52 || 86 | 67 | 71 | 91 | 57 | 40 | 54 || 43 | 51 | 62 | 88 | 93 | 5 | 80 || 12 | 83 | 87 | 69 | 91 | 29 | 66 || 64 | 82 | 21 | 30 | 86 | 92 | 71 || \n",
      "Producto 1 - 20 | 51 | 18 | 21 | 56 | 55 | 63 || 56 | 73 | 91 | 26 | 18 | 60 | 76 || 34 | 88 | 100 | 61 | 20 | 49 | 81 || 77 | 5 | 68 | 28 | 73 | 82 | 54 || 78 | 68 | 4 | 98 | 78 | 41 | 52 || \n",
      "Producto 2 - 67 | 37 | 6 | 62 | 37 | 77 | 27 || 85 | 44 | 78 | 58 | 44 | 37 | 59 || 12 | 55 | 69 | 53 | 86 | 6 | 77 || 65 | 24 | 45 | 85 | 51 | 100 | 25 || 42 | 84 | 88 | 58 | 93 | 86 | 37 || \n",
      "Producto 3 - 1 | 29 | 63 | 33 | 48 | 33 | 100 || 38 | 68 | 97 | 14 | 59 | 44 | 52 || 6 | 53 | 71 | 43 | 38 | 11 | 7 || 99 | 51 | 72 | 15 | 60 | 55 | 52 || 31 | 31 | 76 | 73 | 58 | 46 | 96 || \n",
      "Producto 4 - 79 | 31 | 73 | 59 | 1 | 66 | 27 || 4 | 81 | 49 | 29 | 18 | 63 | 6 || 69 | 25 | 8 | 83 | 76 | 53 | 32 || 1 | 65 | 13 | 82 | 25 | 99 | 50 || 25 | 92 | 22 | 14 | 96 | 23 | 71 || \n",
      "Producto 5 - 98 | 14 | 85 | 36 | 90 | 88 | 49 || 38 | 59 | 14 | 7 | 32 | 31 | 6 || 67 | 69 | 9 | 76 | 20 | 81 | 56 || 71 | 6 | 71 | 34 | 31 | 42 | 27 || 54 | 31 | 98 | 28 | 45 | 92 | 53 || \n",
      "Producto 6 - 15 | 89 | 95 | 50 | 92 | 3 | 51 || 3 | 65 | 15 | 27 | 39 | 75 | 57 || 64 | 23 | 98 | 27 | 83 | 22 | 60 || 69 | 41 | 24 | 63 | 54 | 51 | 36 || 29 | 67 | 96 | 6 | 59 | 2 | 36 || \n",
      "Producto 7 - 52 | 84 | 36 | 71 | 56 | 56 | 71 || 34 | 34 | 58 | 20 | 82 | 64 | 5 || 31 | 47 | 6 | 15 | 26 | 97 | 81 || 44 | 45 | 87 | 42 | 12 | 24 | 40 || 58 | 70 | 15 | 63 | 89 | 47 | 5 || \n",
      "Producto 8 - 92 | 11 | 78 | 6 | 85 | 75 | 46 || 48 | 61 | 68 | 58 | 22 | 18 | 18 || 67 | 62 | 19 | 78 | 65 | 41 | 3 || 22 | 24 | 9 | 46 | 76 | 97 | 37 || 43 | 52 | 4 | 95 | 36 | 32 | 41 || \n",
      "Producto 9 - 86 | 40 | 81 | 94 | 63 | 100 | 4 || 100 | 11 | 84 | 18 | 56 | 60 | 54 || 7 | 66 | 11 | 58 | 9 | 23 | 78 || 58 | 99 | 12 | 44 | 40 | 4 | 67 || 72 | 5 | 49 | 35 | 84 | 54 | 65 || \n",
      "\n",
      "### RESUMEN DE VENTAS ###\n",
      "Total de ventas por producto a lo largo de la semana: [2165 1923 1959 1723 1610 1708 1686 1667 1635 1791]\n",
      "Total de ventas por tienda a lo largo de la semana: [3776 3334 3433 3507 3817]\n",
      "Promedio de ventas por producto por día: [61.85714286 54.94285714 55.97142857 49.22857143 46.         48.8\n",
      " 48.17142857 47.62857143 46.71428571 51.17142857]\n",
      "Promedio de ventas por tienda por día: [53.94285714 47.62857143 49.04285714 50.1        54.52857143]\n",
      "Producto con mayor ventas: Producto 0\n",
      "Producto con menor ventas: Producto 4\n",
      "Tienda con mayor ventas: Tienda 4\n",
      "Tienda con menor ventas: Tienda 1\n"
     ]
    }
   ],
   "source": [
    "import numpy as np\n",
    "\n",
    "def generar_datos_ventas(productos, tiendas, dias):\n",
    "    \"\"\"Genera datos de ventas aleatorias para el número de productos, tiendas y días especificados.\"\"\"\n",
    "    return np.random.randint(0, 101, (productos, tiendas, dias))\n",
    "\n",
    "def calcular_totales_ventas_por_producto(datos):\n",
    "    \"\"\"Calcula el total de ventas por producto a lo largo de la semana.\"\"\"\n",
    "    return np.sum(datos, axis=(1, 2))\n",
    "\n",
    "def calcular_totales_ventas_por_tienda(datos):\n",
    "    \"\"\"Calcula el total de ventas por tienda a lo largo de la semana.\"\"\"\n",
    "    return np.sum(datos, axis=(0, 2))\n",
    "\n",
    "def calcular_promedio_ventas_por_producto(datos):\n",
    "    \"\"\"Calcula el promedio de ventas por producto por día.\"\"\"\n",
    "    return np.mean(datos, axis=(1, 2))\n",
    "\n",
    "def calcular_promedio_ventas_por_tienda(datos):\n",
    "    \"\"\"Calcula el promedio de ventas por tienda por día.\"\"\"\n",
    "    return np.mean(datos, axis=(0, 2))\n",
    "\n",
    "def encontrar_producto_mayor_menor_ventas(totales_por_producto):\n",
    "    \"\"\"Encuentra el producto con mayor y menor ventas totales en la semana.\"\"\"\n",
    "    producto_mayor_ventas = np.argmax(totales_por_producto)\n",
    "    producto_menor_ventas = np.argmin(totales_por_producto)\n",
    "    return producto_mayor_ventas, producto_menor_ventas\n",
    "\n",
    "def encontrar_tienda_mayor_menor_ventas(totales_por_tienda):\n",
    "    \"\"\"Encuentra la tienda con mayor y menor ventas totales en la semana.\"\"\"\n",
    "    tienda_mayor_ventas = np.argmax(totales_por_tienda)\n",
    "    tienda_menor_ventas = np.argmin(totales_por_tienda)\n",
    "    return tienda_mayor_ventas, tienda_menor_ventas\n",
    "\n",
    "def imprimir_resumen(totales_por_producto, totales_por_tienda, promedio_por_producto, promedio_por_tienda,\n",
    "                     producto_mayor_ventas, producto_menor_ventas, tienda_mayor_ventas, tienda_menor_ventas):\n",
    "    \"\"\"Imprime un resumen de los datos analizados.\"\"\"\n",
    "    print(\"Total de ventas por producto a lo largo de la semana:\", totales_por_producto)\n",
    "    print(\"Total de ventas por tienda a lo largo de la semana:\", totales_por_tienda)\n",
    "    print(\"Promedio de ventas por producto por día:\", promedio_por_producto)\n",
    "    print(\"Promedio de ventas por tienda por día:\", promedio_por_tienda)\n",
    "    print(f\"Producto con mayor ventas: Producto {producto_mayor_ventas}\")\n",
    "    print(f\"Producto con menor ventas: Producto {producto_menor_ventas}\")\n",
    "    print(f\"Tienda con mayor ventas: Tienda {tienda_mayor_ventas}\")\n",
    "    print(f\"Tienda con menor ventas: Tienda {tienda_menor_ventas}\")\n",
    "\n",
    "def imprimir_datos(datos):\n",
    "    \"\"\"Imprime los datos de ventas de manera elegante sin usar pandas.\"\"\"\n",
    "    productos_labels = [f'Producto {i}' for i in range(datos.shape[0])]\n",
    "    tiendas_labels = [f'Tienda {j}' for j in range(datos.shape[1])]\n",
    "\n",
    "    print(\"\\nDatos de ventas generados (Tiendas x Días):\")\n",
    "    print(\" \" * 10, end=\"\")\n",
    "    for tienda in tiendas_labels:\n",
    "        print(f\"{tienda:>10}\", end=\" \")\n",
    "    print()  # Nueva línea\n",
    "\n",
    "    for i, producto in enumerate(productos_labels):\n",
    "        print(f\"{producto:<10}\", end=\" - \")\n",
    "        for j in range(datos.shape[1]):  # Iterar sobre tiendas\n",
    "            print(f\"{' | '.join(map(str, datos[i, j])):>10}\", end=\" || \")\n",
    "        print()  # Nueva línea\n",
    "\n",
    "# Parámetros\n",
    "productos = 10\n",
    "tiendas = 5\n",
    "dias = 7\n",
    "\n",
    "# Genera los datos de ventas\n",
    "datos = generar_datos_ventas(productos, tiendas, dias)\n",
    "\n",
    "# Imprime los datos generados de manera elegante\n",
    "imprimir_datos(datos)\n",
    "\n",
    "# Calcula los totales y promedios\n",
    "totales_por_producto = calcular_totales_ventas_por_producto(datos)\n",
    "totales_por_tienda = calcular_totales_ventas_por_tienda(datos)\n",
    "promedio_por_producto = calcular_promedio_ventas_por_producto(datos)\n",
    "promedio_por_tienda = calcular_promedio_ventas_por_tienda(datos)\n",
    "\n",
    "# Encuentra el producto y la tienda con mayor y menor ventas\n",
    "producto_mayor_ventas, producto_menor_ventas = encontrar_producto_mayor_menor_ventas(totales_por_producto)\n",
    "tienda_mayor_ventas, tienda_menor_ventas = encontrar_tienda_mayor_menor_ventas(totales_por_tienda)\n",
    "\n",
    "print()\n",
    "# Imprime los resultados\n",
    "print(\"### RESUMEN DE VENTAS ###\")\n",
    "imprimir_resumen(totales_por_producto, totales_por_tienda, promedio_por_producto, promedio_por_tienda,\n",
    "                  producto_mayor_ventas, producto_menor_ventas, tienda_mayor_ventas, tienda_menor_ventas)\n"
   ]
  }
 ],
 "metadata": {
  "colab": {
   "authorship_tag": "ABX9TyOi/jghAQCdiqrcTUHg4pE2",
   "provenance": []
  },
  "kernelspec": {
   "display_name": "Python 3",
   "name": "python3"
  },
  "language_info": {
   "name": "python"
  }
 },
 "nbformat": 4,
 "nbformat_minor": 0
}
