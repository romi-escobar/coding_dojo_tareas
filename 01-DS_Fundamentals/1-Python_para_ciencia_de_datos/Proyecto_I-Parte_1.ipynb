{
 "cells": [
  {
   "cell_type": "markdown",
   "metadata": {},
   "source": [
    "### **Descripción**\n",
    "\n",
    "# **Análisis y Predicción de Ventas en una Tienda de Retail (Core)**\n",
    "\n",
    "### **Introducción al Proyecto**\n",
    "\n",
    "En este proyecto de curso, desarrollaremos un análisis integral de un conjunto de datos de ventas de una tienda de retail. El objetivo es que los estudiantes apliquen lo aprendido en las diferentes secciones del curso, desde la manipulación básica de datos con NumPy, pasando por el análisis y visualización de datos con Pandas, hasta el uso de técnicas de machine learning para realizar predicciones. Este proyecto será una excelente adición al portafolio de los estudiantes y les permitirá demostrar su competencia en varias áreas clave de la ciencia de datos.\n",
    "\n",
    "### **Dataset**\n",
    "\n",
    "Para este proyecto, utilizaremos un dataset reciente de Kaggle titulado «Retail Sales Dataset» (2023-2024). Este dataset contiene información detallada sobre las ventas diarias de diferentes productos en una tienda. Puedes descargar el dataset desde Kaggle.\n",
    "\n",
    "### **Parte 1: Análisis Básico con NumPy**\n",
    "\n",
    "En esta primera parte del proyecto, los estudiantes realizarán un análisis preliminar del dataset utilizando NumPy. El objetivo es familiarizarse con los datos y realizar operaciones básicas de manipulación y análisis.\n",
    "\n",
    "### **Instrucciones:**\n",
    "\n",
    "1. Configuración Inicial del Proyecto:\n",
    "* Crea un repositorio en GitHub para tu proyecto.\n",
    "* Configura dos ramas en tu repositorio: main y development.\n",
    "* Agrega un archivo README.md con una descripción del proyecto, instrucciones de instalación y uso.\n",
    "2. Carga y Preprocesamiento de Datos:\n",
    "* Carga los datos del archivo CSV utilizando NumPy.\n",
    "* Realiza un preprocesamiento básico para asegurarte de que los datos estén limpios y listos para su análisis.\n",
    "3. Exploración de Datos:\n",
    "* Calcula el total de ventas por categoría de producto.\n",
    "* Calcula el promedio de ventas diarias por categoría de producto.\n",
    "* Identifica las categorías de productos con mayores y menores ventas.\n",
    "4. Manipulación de Datos:\n",
    "* Filtra los datos para mostrar solo las ventas de una categoría de producto específica.\n",
    "* Realiza operaciones de suma, resta, multiplicación y división en los datos para obtener estadísticas adicionales.\n",
    "\n",
    "### **Guía Paso a Paso:**\n",
    "\n",
    "1. **Configuración Inicial del Proyecto en GitHub**\n",
    "* Crear un Repositorio en GitHub:\n",
    "    - Ve a GitHub y crea un nuevo repositorio.\n",
    "    - Nombra el repositorio, por ejemplo, retail-sales-analysis.\n",
    "2. **Clonar el Repositorio a tu Máquina Local:**\n",
    "* Abre tu terminal y clona el repositorio:\n",
    "<br> `git clone https://github.com/tu_usuario/retail-sales-analysis.git`\n",
    "<br> `cd retail-sales-analysis` \n",
    "3. **Crear Ramas main y development:**\n",
    "* Asegúrate de estar en la rama main:\n",
    "<br> `git checkout main`\n",
    "* Crea y cambia a la rama development:\n",
    "<br> `git checkout -b development`\n",
    "4. **Agregar un Archivo README.md:**\n",
    "* Crea un archivo README.md con la siguiente estructura:"
   ]
  },
  {
   "cell_type": "markdown",
   "metadata": {},
   "source": [
    "# Retail Sales Analysis\n",
    "\n",
    "Este proyecto analiza y predice las ventas de una tienda de retail utilizando técnicas de ciencia de datos.\n",
    "\n",
    "## Estructura del Proyecto\n",
    "\n",
    "- `data/`: Contiene los archivos de datos.\n",
    "- `notebooks/`: Contiene los notebooks de Jupyter para el análisis.\n",
    "- `src/`: Contiene el código fuente del proyecto.\n",
    "- `README.md`: Este archivo.\n",
    "\n",
    "## Instrucciones de Instalación\n",
    "\n",
    "1. Clona el repositorio: `git clone https://github.com/tu_usuario/retail-sales-analysis.git`\n",
    "2. Instala las dependencias: `pip install -r requirements.txt`\n",
    "\n",
    "## Uso\n",
    "\n",
    "Ejecuta los notebooks de Jupyter en la carpeta `notebooks` para realizar el análisis de los datos."
   ]
  },
  {
   "cell_type": "markdown",
   "metadata": {},
   "source": [
    "5. **Hacer un Commit y Push de los Cambios:**\n",
    "* Agrega y comitea los cambios:\n",
    "<br> `git add README.md`\n",
    "<br> `git commit -m \"Add README.md\"`\n",
    "6. **HINT. Carga de datos con Numpy**"
   ]
  },
  {
   "cell_type": "code",
   "execution_count": null,
   "metadata": {},
   "outputs": [],
   "source": [
    "import numpy as np\n",
    "\n",
    "def cargar_datos(ruta_archivo):\n",
    "    # Carga los datos del archivo CSV utilizando NumPy\n",
    "    datos = np.genfromtxt(ruta_archivo, delimiter=',', skip_header=1)\n",
    "    return datos\n",
    "\n",
    "if __name__ == \"__main__\":\n",
    "    ruta_archivo = '../data/retail_sales.csv'\n",
    "    datos = cargar_datos(ruta_archivo)\n",
    "    print(datos)"
   ]
  }
 ],
 "metadata": {
  "colab": {
   "authorship_tag": "ABX9TyMoL/pa6pW00xerl+Lmoq15",
   "provenance": []
  },
  "kernelspec": {
   "display_name": "Python 3",
   "name": "python3"
  },
  "language_info": {
   "name": "python"
  }
 },
 "nbformat": 4,
 "nbformat_minor": 0
}
