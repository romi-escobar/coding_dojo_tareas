{
 "cells": [
  {
   "cell_type": "markdown",
   "metadata": {},
   "source": [
    "# **Análisis y Predicción de Ventas en una Tienda de Retail (Core)**\n",
    "### **Parte III: Transformación y Análisis Avanzado de Datos con Pandas**\n",
    "\n",
    "En esta tercera parte del proyecto, continuaremos trabajando con el dataset de ventas que utilizamos en la Parte II. En esta fase, aplicaremos técnicas avanzadas de transformación y análisis de datos utilizando las nuevas habilidades adquiridas en Pandas, tales como agrupaciones complejas y el uso del método apply. Nos enfocaremos en extraer insights más profundos y preparar los datos para futuros análisis y modelos predictivos.\n",
    "\n",
    "\n",
    "### **Instrucciones**\n",
    "\n",
    "1. **Transformación de Datos**\n",
    "* **Crea nuevas columnas:** Basándonos en los datos existentes, crea nuevas columnas que sean útiles para el análisis. Por ejemplo, calcula el ingreso total por venta y normaliza las ventas.\n",
    "* **Clasifica los datos:** Crea una columna que clasifique las ventas en categorías significativas (e.g., ‘Alta’, ‘Media’, ‘Baja’).\n",
    "2. **Agrupación y Agregación**\n",
    "* **Agrupación por múltiples columnas:** Realiza agrupaciones por categorías como producto y tienda, producto y mes, etc.\n",
    "* **Aplicar funciones de agregación:** Utiliza funciones como sum, mean, count, min, max, std, y var para obtener estadísticas descriptivas de cada grupo.\n",
    "3. **Análisis Personalizado con apply**\n",
    "* **Función personalizada:** Aplica funciones personalizadas para realizar análisis específicos que no se pueden lograr con las funciones de agregación estándar.\n",
    "* **Ejemplo de uso avanzado:** Calcula la desviación de cada venta respecto a la media de su grupo.\n",
    "4. **Documentación**\n",
    "* **omentarios claros:** Documenta claramente cada paso del análisis, explicando qué se hizo y por qué se hizo.\n",
    "* **Código legible:** Asegúrate de que el código sea legible y esté bien comentado."
   ]
  }
 ],
 "metadata": {
  "language_info": {
   "name": "python"
  }
 },
 "nbformat": 4,
 "nbformat_minor": 2
}
