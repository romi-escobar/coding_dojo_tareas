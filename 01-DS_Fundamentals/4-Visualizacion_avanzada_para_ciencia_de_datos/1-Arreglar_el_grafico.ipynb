{
 "cells": [
  {
   "cell_type": "markdown",
   "metadata": {},
   "source": [
    "# **Arreglar el gráfico (Core)**\n",
    "### **Arreglar el Código en Python, Pandas y Matplotlib**\n",
    "\n",
    "### **Objetivo**\n",
    "\n",
    "El objetivo de esta actividad es consolidar tus conocimientos en Python, Pandas y Matplotlib. Se te proporcionará un código con errores que necesitas identificar y corregir. Esta actividad te ayudará a desarrollar habilidades de depuración y a reforzar tu comprensión de los conceptos básicos de programación, manipulación de datos y visualización gráfica.\n",
    "\n",
    "### **Descripción del Ejercicio**\n",
    "\n",
    "A continuación, se presenta un código con errores que contiene tareas de Python, Pandas y Matplotlib. Tu tarea es encontrar y corregir los errores para que el código funcione correctamente y genere las visualizaciones adecuadas.\n",
    "\n",
    "### **Código con Errores**"
   ]
  },
  {
   "cell_type": "code",
   "execution_count": null,
   "metadata": {},
   "outputs": [],
   "source": [
    "import pandas as pd\n",
    "import matplotlib.pyplot as plt\n",
    "\n",
    "# Datos de ejemplo en formato CSV\n",
    "data = \"\"\"\n",
    "fecha,ventas\n",
    "2023-01-01,200\n",
    "2023-01-02,220\n",
    "2023-01-03,210\n",
    "2023-01-04,205\n",
    "2023-01-05,215\n",
    "2023-01-06,225\n",
    "\"\"\"\n",
    "\n",
    "# Cargar los datos en un DataFrame de Pandas\n",
    "df = pd.read_csv(pd.compat.StringIO(data))\n",
    "\n",
    "# Convertir la columna 'fecha' a formato datetime\n",
    "df['fecha'] = pd.to_datetime(df['fechas'])\n",
    "\n",
    "# Gráfico de líneas de las ventas\n",
    "plt.figure(figsize=(10, 6))\n",
    "plt.plot(df['fecha'], df['ventas'])\n",
    "plt.title(\"Ventas Diarias\")\n",
    "plt.xlabel(\"Fecha\")\n",
    "plt.ylabel(\"Ventas\")\n",
    "plt.show()\n",
    "\n",
    "# Crear un gráfico de dispersión\n",
    "plt.scatter(df['fecha'], df['ventas'])\n",
    "plt.title(\"Ventas Diarias\")\n",
    "plt.xlabel(\"Fecha\")\n",
    "plt.ylabel(\"Ventas\")\n",
    "plt.show()\n",
    "\n",
    "# Crear un histograma de las ventas\n",
    "plt.hist(df['ventas'], bins=5, color='skyblue', edgecolor='black')\n",
    "plt.title(\"Distribución de Ventas\")\n",
    "plt.xlabel(\"Ventas\")\n",
    "plt.ylabel(\"Frecuencia\")\n",
    "plt.show()"
   ]
  },
  {
   "cell_type": "markdown",
   "metadata": {},
   "source": [
    "**Tareas**\n",
    "\n",
    "1. **Identificar y corregir errores en la carga de datos:**\n",
    "Asegúrate de que los datos se carguen correctamente en un DataFrame de Pandas.\n",
    "2. **Corregir la conversión de la columna ‘fecha’ a formato datetime:**\n",
    "Asegúrate de que la columna ‘fecha’ se convierta correctamente al formato de fecha y hora.\n",
    "3. **Arreglar los gráficos generados por Matplotlib:**\n",
    "Asegúrate de que los gráficos de líneas, dispersión e histograma se generen correctamente.\n",
    "\n",
    "**Instrucciones**\n",
    "\n",
    "1. **Cargar los Datos:**\n",
    "Revisa cómo se están cargando los datos en el DataFrame. Corrige cualquier error relacionado con la carga de datos.\n",
    "2. **Conversión de la Columna ‘Fecha’:**\n",
    "Asegúrate de que la columna ‘fecha’ se esté convirtiendo correctamente a formato datetime.\n",
    "3. **Corregir los Gráficos:**\n",
    "Revisa el código para generar los gráficos de Matplotlib. Asegúrate de que se estén utilizando las columnas correctas y que las visualizaciones sean precisas."
   ]
  }
 ],
 "metadata": {
  "language_info": {
   "name": "python"
  }
 },
 "nbformat": 4,
 "nbformat_minor": 2
}
