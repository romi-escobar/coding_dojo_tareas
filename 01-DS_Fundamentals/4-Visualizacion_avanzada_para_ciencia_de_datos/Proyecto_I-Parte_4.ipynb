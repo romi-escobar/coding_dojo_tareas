{
 "cells": [
  {
   "cell_type": "markdown",
   "metadata": {},
   "source": [
    "# **Proyecto I- Parte IV (Core)**\n",
    "### **Análisis y Predicción de Ventas en una Tienda de Retail**\n",
    "\n",
    "### **Parte IV: Análisis Exploratorio de Datos (EDA) y Visualización**\n",
    "\n",
    "En esta cuarta parte del proyecto, aplicaremos técnicas avanzadas de análisis exploratorio de datos (EDA) y visualización para comprender mejor el conjunto de datos de ventas de la tienda de retail. Utilizaremos Python, Pandas y Matplotlib para explorar y visualizar los datos, identificar patrones y tendencias, y preparar los datos para un análisis más profundo.\n",
    "\n",
    "### **Instrucciones**\n",
    "\n",
    "1. **Continuar desde la Parte III**\n",
    "* Asegúrate de tener el repositorio de GitHub clonado localmente y el dataset ya limpiado y preparado desde la Parte III.\n",
    "2. **Análisis Descriptivo y Visualización**\n",
    "* Calcula estadísticas descriptivas básicas para comprender mejor las características de los datos.\n",
    "* Utiliza histogramas y boxplots para visualizar la distribución de las variables numéricas clave.\n",
    "* Crea gráficos de líneas para mostrar las tendencias de ventas a lo largo del tiempo.\n",
    "* Utiliza gráficos de dispersión para analizar la relación entre diferentes variables.\n",
    "* Combina histogramas y boxplots para visualizar la distribución de las ventas y detectar valores atípicos.\n",
    "3. **Generar un Pull Request en GitHub**\n",
    "* Después de completar el análisis y las visualizaciones, sube los cambios a una nueva rama en tu repositorio de GitHub y genera un Pull Request (PR) para revisión."
   ]
  }
 ],
 "metadata": {
  "language_info": {
   "name": "python"
  }
 },
 "nbformat": 4,
 "nbformat_minor": 2
}
