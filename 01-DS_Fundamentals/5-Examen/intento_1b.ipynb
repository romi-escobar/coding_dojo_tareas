{
 "cells": [
  {
   "cell_type": "markdown",
   "id": "1464c9bf",
   "metadata": {},
   "source": [
    "**Analizando los Salarios en Ciencia de Datos en 2023**\n",
    "\n",
    "**Requisitos:**\n",
    "\n",
    "Tu tarea es limpiar y explorar un dataset que contiene información sobre los salarios en el campo de la ciencia de datos para el año 2023. Este análisis es crucial para entender las tendencias salariales y los factores que influyen en las diferencias de salarios en esta industria.\n",
    "\n",
    "El dataset puede ser encontrado [aquí.](https://www.kaggle.com/datasets/arnabchaki/data-science-salaries-2023)\n",
    "\n",
    "1. **Limpieza de datos con Python:**\n",
    "* **Detección y eliminación de valores duplicados:** Asegúrate de que cada registro en el dataset sea único.\n",
    "* **Verificación y ajuste de tipos de datos:** Asegúrate de que todas las columnas coincidan con los tipos de datos indicados en el diccionario de datos.\n",
    "* **Consistencia en valores categóricos:** Identifica y corrige cualquier inconsistencia en los valores categóricos (por ejemplo, ‘Junior’, ‘junior’, ‘JUNIOR’).\n",
    "* **Manejo de valores faltantes:** Identifica y maneja cualquier valor faltante en el dataset. Rellena los valores faltantes con un marcador adecuado para el tipo de dato.\n",
    "* **Detección de datos anómalos:** Identifica y corrige cualquier punto de dato inapropiado o inusual (por ejemplo, un salario anual de 1 millón de dólares para un puesto de entrada).\n",
    "2. **Exploración de datos con Python:**\n",
    "* **Visualizaciones exploratorias univariadas:** Crea dos tipos diferentes de visualizaciones univariadas. Cada visualización debe incluir una breve interpretación dentro del archivo de código.\n",
    "* **Visualizaciones exploratorias multivariadas:** Crea dos tipos diferentes de visualizaciones multivariadas. Cada visualización debe incluir una breve interpretación dentro del archivo de código.\n",
    "3. **Análisis adicional:**\n",
    "* **Estadísticas descriptivas:** Proporciona un resumen estadístico del dataset, incluyendo medidas de tendencia central y dispersión para las variables numéricas.\n",
    "* **Identificación de tendencias:** Analiza y discute cualquier tendencia notable que observes en los datos, apoyándote en las visualizaciones y estadísticas descriptivas.\n",
    "\n",
    "### **Entrega:**\n",
    "\n",
    "* Un archivo .ipynb claramente comentado con todo el código utilizado para la limpieza y exploración de datos. Para cumplir con los requisitos anteriores, este archivo tendrá un mínimo de 4 visualizaciones.\n",
    "* Subir un repositorio a una plataforma de control de versiones (por ejemplo, GitHub) con un **TAG** incluido para verificar la fecha de entrega. El repositorio debe contener el archivo .ipynb.\n",
    "* **NOTA:** Debes enviar un archivo y un enlace al repositorio con el TAG correspondiente. Las presentaciones de enlaces sin el archivo o sin el TAG serán consideradas no presentadas.\n",
    "\n",
    "### **Notas:**\n",
    "\n",
    "* Para evitar que otros estudiantes copien tu trabajo, asegúrate de que el código no esté guardado en un repositorio público.\n",
    "* Para minimizar la deducción de puntos, asegúrate de cargar los requisitos completos.\n",
    "* Si tienes problemas para cargar archivos en la aplicación de exámenes, por favor NO desbloquees otro examen. Envía el archivo por correo electrónico a tu instructor.\n",
    "* Puedes usar cualquier recurso que tengas disponible (notas de clase, Google, Stackoverflow, etc.) – PERO DEBES CITAR CUALQUIER FUENTE UTILIZADA. Puedes citar fuentes en forma de comentario de código o una celda de texto con enlaces a cualquier recurso que hayas utilizado. La falta de citas será considerada plagio y resultará en la falla del examen.\n",
    "* No puedes recibir ayuda de ninguna otra persona en este código. Esto incluye compañeros de clase, exalumnos, tu instructor, etc. La colaboración con otra persona en este examen será considerada plagio y resultará en la falla del examen y puede resultar en la expulsión del programa.\n",
    "* Se permite el uso de LLM (Copilot, GPT, etc.), pero solo como guía o para depuración. Se espera que los estudiantes pongan su máximo esfuerzo."
   ]
  }
 ],
 "metadata": {
  "language_info": {
   "name": "python"
  }
 },
 "nbformat": 4,
 "nbformat_minor": 5
}
