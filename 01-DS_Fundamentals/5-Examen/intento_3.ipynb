{
 "cells": [
  {
   "cell_type": "markdown",
   "id": "1435a81a",
   "metadata": {},
   "source": [
    "# **Analizando la Rotación de Clientes en Telecomunicaciones**\n",
    "\n",
    "### **Requisitos:**\n",
    "\n",
    "Tu tarea es limpiar y explorar un dataset para los ejecutivos de una empresa de telecomunicaciones que describe tendencias en la rotación de sus clientes.\n",
    "\n",
    "El dataset puede ser encontrado [aquí.](https://www.kaggle.com/datasets/blastchar/telco-customer-churn)\n",
    "\n",
    "1. **Limpieza de datos con Python:**\n",
    "* Identificar y solucionar cualquier valor duplicado.\n",
    "* Asegurarse de que todas las columnas coincidan con los tipos de datos indicados en el diccionario de datos.\n",
    "* Identificar y solucionar cualquier inconsistencia en los valores categóricos (ejemplo: cat, Cat, cats).\n",
    "* Identificar y solucionar cualquier valor faltante en el dataset. Rellenar los valores faltantes con un marcador adecuado para el tipo de dato.\n",
    "* Identificar y solucionar cualquier punto de dato inapropiado o inusual (ejemplo: la edad no puede ser 325).\n",
    "2. **Exploración de datos con Python:**\n",
    "* Crear dos tipos diferentes de visualizaciones exploratorias univariadas. Cada visualización debe incluir una breve interpretación dentro del archivo de código.\n",
    "* Crear dos tipos diferentes de visualizaciones exploratorias multivariadas. Cada visualización debe incluir una breve interpretación dentro del archivo de código.\n",
    "\n",
    "### **Entrega:**\n",
    "\n",
    "* Un archivo .ipynb claramente comentado con todo el código utilizado para la limpieza y exploración de datos. Para cumplir con los requisitos anteriores, este archivo tendrá un mínimo de 4 visualizaciones.\n",
    "* Subir un repositorio a una plataforma de control de versiones (por ejemplo, GitHub) con un **TAG** incluido para verificar la fecha de entrega. El repositorio debe contener el archivo .ipynb.\n",
    "* **NOTA:** Debes enviar un archivo y un enlace al repositorio con el TAG correspondiente. Las presentaciones de enlaces sin el archivo o sin el TAG serán consideradas no presentadas.\n",
    "\n",
    "### **Notas:**\n",
    "\n",
    "* Para evitar que otros estudiantes copien tu trabajo, asegúrate de que el código no esté guardado en un repositorio público.\n",
    "* Para minimizar la deducción de puntos, asegúrate de cargar los requisitos completos.\n",
    "* Si tienes problemas para cargar archivos en la aplicación de exámenes, por favor NO desbloquees otro examen. Envía el archivo por correo electrónico a tu instructor.\n",
    "* Puedes usar cualquier recurso que tengas disponible (notas de clase, Google, Stackoverflow, etc.) – PERO DEBES CITAR CUALQUIER FUENTE UTILIZADA. Puedes citar fuentes en forma de comentario de código o una celda de texto con enlaces a cualquier recurso que hayas utilizado. La falta de citas será considerada plagio y resultará en la falla del examen.\n",
    "* No puedes recibir ayuda de ninguna otra persona en este código. Esto incluye compañeros de clase, exalumnos, tu instructor, etc. La colaboración con otra persona en este examen será considerada plagio y resultará en la falla del examen y puede resultar en la expulsión del programa.\n",
    "* Se permite el uso de LLM (Copilot, GPT, etc.), pero solo como guía o para depuración. Se espera que los estudiantes pongan su máximo esfuerzo.\n"
   ]
  }
 ],
 "metadata": {
  "language_info": {
   "name": "python"
  }
 },
 "nbformat": 4,
 "nbformat_minor": 5
}
