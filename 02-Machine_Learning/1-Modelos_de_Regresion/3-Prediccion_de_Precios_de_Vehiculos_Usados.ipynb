{
 "cells": [
  {
   "cell_type": "markdown",
   "metadata": {},
   "source": [
    "**Predicción de Precios de Vehículos Usados (Core)**\n",
    "\n",
    "Implementar y evaluar modelos de regresión, y seleccionar el mejor modelo basado en las métricas de evaluación.\n",
    "\n",
    "**Requisitos:**\n",
    "\n",
    " 1. **Carga y Exploración de Datos:**\n",
    "\n",
    "* Descargar y cargar el dataset.\n",
    "* Realizar una exploración inicial para entender la estructura del dataset.\n",
    "* Identificar valores faltantes, duplicados y outliers.\n",
    "\n",
    " 2. **Limpieza y Preprocesamiento:**\n",
    " \n",
    "* Manejar valores faltantes.\n",
    "* Eliminar duplicados.\n",
    "* Corregir inconsistencias en los datos categóricos.\n",
    "* Escalar las características numéricas.\n",
    "* Realizar transformaciones necesarias para las características categóricas.\n",
    "\n",
    " 3. **Exploración de Datos:**\n",
    " \n",
    "* Crear visualizaciones univariadas y multivariadas.\n",
    "* Calcular estadísticas descriptivas.\n",
    " \n",
    " 4. **Modelado y Evaluación:**\n",
    "* \n",
    "* Implementar al menos dos modelos de regresión (Linear Regression y Random Forest Regressor).\n",
    "* Evaluar los modelos utilizando MSE, RMSE, y R^2.\n",
    "* Seleccionar el mejor modelo basado en las métricas de evaluación.\n",
    " \n",
    " 5. **Optimización del Modelo:**\n",
    " \n",
    "* Optimizar el modelo seleccionado utilizando GridSearchCV.\n",
    " \n",
    " 6. **Documentación y Entrega:**\n",
    " \n",
    "* Documentar todo el proceso en un archivo .ipynb claramente comentado.\n",
    "* Crear visualizaciones con interpretaciones.\n",
    "* Subir el archivo a un repositorio en GitHub con un tag de liberación.\n",
    "\n",
    "**Dataset:**\n",
    "\n",
    "[Used Cars Dataset](https://www.kaggle.com/datasets/austinreese/craigslist-carstrucks-data)"
   ]
  }
 ],
 "metadata": {
  "language_info": {
   "name": "python"
  }
 },
 "nbformat": 4,
 "nbformat_minor": 2
}
