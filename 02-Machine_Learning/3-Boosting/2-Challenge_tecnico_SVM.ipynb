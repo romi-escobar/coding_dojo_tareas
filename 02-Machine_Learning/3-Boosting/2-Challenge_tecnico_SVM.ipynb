{
 "cells": [
  {
   "cell_type": "markdown",
   "metadata": {},
   "source": [
    "# **Challenge Técnico (Core)**\n",
    "**Objetivo:** Los estudiantes deberán participar en una competencia de Kaggle, realizar un análisis completo del dataset, entrenar y evaluar al menos cinco modelos diferentes, y realizar un benchmark para comparar su rendimiento. El resultado final debe ser subido a GitHub.\n",
    "\n",
    "**Pasos del Challenge:**\n",
    "\n",
    "1. **Registro en Kaggle y Elección de Competencia:**\n",
    "\n",
    "* Los estudiantes deben registrarse en Kaggle si no lo han hecho aún.\n",
    "* Elegir una competencia activa que esté alineada con los conocimientos y técnicas aprendidas (por ejemplo, una competencia de clasificación o regresión).\n",
    "\n",
    "2. **Carga y Exploración Inicial de Datos:**\n",
    "\n",
    "* Descargar el dataset de la competencia.\n",
    "* Realizar una exploración inicial para entender la estructura del dataset y las características disponibles.\n",
    "* Identificar y documentar valores faltantes y outliers.\n",
    "\n",
    "3. **Análisis Exploratorio de Datos (EDA):**\n",
    "\n",
    "* Calcular estadísticas descriptivas básicas.\n",
    "* Crear visualizaciones para entender la distribución de las variables y sus relaciones.\n",
    "* Detectar y tratar valores faltantes y outliers.\n",
    "\n",
    "4. **Preprocesamiento de Datos:**\n",
    "\n",
    "* Transformar las columnas según sea necesario (codificación de variables categóricas, escalado de características numéricas).\n",
    "* Dividir el dataset en conjuntos de entrenamiento y prueba.\n",
    " \n",
    "5. **Implementación de Modelos y Benchmark:**\n",
    " \n",
    "* Entrenar y evaluar al menos cinco modelos diferentes, como Regresión Logística, K-Nearest Neighbors (KNN), Árbol de Decisión, XGBoost y LightGBM.\n",
    "* Utilizar validación cruzada para evaluar el rendimiento inicial de los modelos.\n",
    "* Optimizar los hiperparámetros de los modelos seleccionados utilizando GridSearchCV o RandomizedSearchCV.\n",
    "* Comparar el rendimiento de los modelos utilizando métricas adecuadas.\n",
    "\n",
    "6. **Documentación y Entrega:**\n",
    "\n",
    "* Documentar todo el proceso en un notebook de Jupyter.\n",
    "* Subir el notebook, los resultados y cualquier script adicional a un repositorio de GitHub.\n",
    "* Crear un tag de liberación (v1.0.0) para esta versión del proyecto en GitHub.\n"
   ]
  }
 ],
 "metadata": {
  "language_info": {
   "name": "python"
  }
 },
 "nbformat": 4,
 "nbformat_minor": 2
}
