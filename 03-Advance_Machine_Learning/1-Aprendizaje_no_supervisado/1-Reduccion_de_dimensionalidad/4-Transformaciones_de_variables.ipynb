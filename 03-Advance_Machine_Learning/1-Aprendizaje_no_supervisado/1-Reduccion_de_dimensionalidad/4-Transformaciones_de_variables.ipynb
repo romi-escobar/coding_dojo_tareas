{
 "cells": [
  {
   "cell_type": "markdown",
   "metadata": {},
   "source": [
    "# Ingeniería de Características: Transformaciones de Variables (Core)\n",
    "**Descripción:**\n",
    "\n",
    "En esta actividad, aplicarás diversas técnicas de transformación de variables para mejorar la calidad de los datos en el dataset «House Prices – Advanced Regression Techniques» disponible en Kaggle. Aprenderás a realizar transformaciones logarítmicas, escalado y creación de variables polinómicas para mejorar el rendimiento de los modelos predictivos.\n",
    "\n",
    "**Enlace al dataset:** https://www.kaggle.com/c/house-prices-advanced-regression-techniques\n",
    "\n",
    "**Objetivo:**\n",
    "\n",
    "El objetivo es realizar transformaciones de las variables en el dataset para mejorar la distribución de los datos y su relación con la variable objetivo (el precio de las casas). Estas transformaciones son clave para mejorar la precisión de los modelos de regresión y reducir sesgos en los datos.\n",
    "\n",
    "**Instrucciones:**\n",
    "\n",
    "1. **Carga de datos:**\n",
    "  * Descarga el dataset «House Prices» de Kaggle. Realiza una exploración inicial de las variables numéricas y categóricas, prestando especial atención a aquellas que están relacionadas con el tamaño de la casa, el número de habitaciones y la calidad general.\n",
    "  * Revisa la distribución de la variable objetivo (precio de la casa) y observa si tiene algún sesgo.\n",
    "2. **Exploración y preprocesamiento de datos:**\n",
    "  * Antes de aplicar las transformaciones, realiza un análisis de las variables con distribuciones asimétricas o que contengan outliers. Estos son buenos candidatos para transformaciones logarítmicas o polinómicas.\n",
    "  * También identifica variables que estén en escalas diferentes para aplicar técnicas de normalización o estandarización.\n",
    "3. **Transformaciones de variables:**\n",
    "  * Aplica transformaciones logarítmicas a variables sesgadas como el «SalePrice» y otras variables numéricas que tengan una distribución sesgada.\n",
    "  * Crea variables polinómicas a partir de las variables numéricas, como el tamaño total de la casa. Por ejemplo, agrega el cuadrado o el cubo de estas variables como nuevas características para capturar posibles relaciones no lineales.\n",
    "  * Estandariza las variables numéricas para que todas tengan la misma escala, lo cual es útil cuando se entrenan modelos de regresión o algoritmos basados en distancia como KNN.\n",
    "4. **Evaluación de las transformaciones:**\n",
    "  * Aplica un modelo de regresión antes y después de las transformaciones para evaluar su impacto en el rendimiento del modelo.\n",
    "  * Compara métricas como el RMSE (Root Mean Squared Error) y el R-squared para ver si las transformaciones logarítmicas y polinómicas han mejorado la predicción del precio de las casas.\n",
    "5. **Interpretación de los resultados:**\n",
    "  * Analiza cuáles de las transformaciones aplicadas tuvieron un mayor impacto en la mejora del modelo. Discute cómo las transformaciones logarítmicas ayudan a manejar el sesgo en los datos y cómo las variables polinómicas capturan relaciones más complejas.\n",
    "  * Reflexiona sobre la importancia de transformar variables antes de aplicar modelos de machine learning.\n",
    "\n",
    "**Análisis de Resultados:**\n",
    "\n",
    "  * El análisis debe centrarse en cómo las diferentes transformaciones afectaron la distribución de las variables y cómo esto influyó en la precisión del modelo predictivo. Discute las ventajas y desventajas de las transformaciones aplicadas y su relevancia en problemas de regresión."
   ]
  }
 ],
 "metadata": {
  "language_info": {
   "name": "python"
  }
 },
 "nbformat": 4,
 "nbformat_minor": 2
}
