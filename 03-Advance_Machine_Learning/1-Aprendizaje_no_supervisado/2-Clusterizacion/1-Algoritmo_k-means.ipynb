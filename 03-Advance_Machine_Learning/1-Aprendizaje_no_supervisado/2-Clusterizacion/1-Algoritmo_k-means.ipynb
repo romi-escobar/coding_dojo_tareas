{
 "cells": [
  {
   "cell_type": "markdown",
   "metadata": {},
   "source": [
    "# **Algoritmo K-means (Core)**\n",
    "El algoritmo K-means es uno de los métodos de agrupamiento más utilizados en análisis de datos y machine learning. Este algoritmo busca agrupar un conjunto de datos en K grupos o clusters, donde cada grupo está definido por un centroide. En esta actividad, utilizaremos el algoritmo K-means para analizar y segmentar clientes en función de su comportamiento de compra, utilizando el dataset «Mall Customer Segmentation Data» de Kaggle.\n",
    "\n",
    "**Enlace al dataset:** https://www.kaggle.com/vjchoudhary7/customer-segmentation-tutorial-in-python\n",
    "\n",
    "**Objetivo de la Actividad**\n",
    "\n",
    "El objetivo de esta actividad es utilizar el algoritmo K-means para identificar diferentes grupos de clientes según su comportamiento de compra. El análisis de los clusters resultantes permitirá obtener una mejor comprensión de las características de los clientes, lo que puede ser útil para personalizar estrategias de marketing y mejorar la experiencia del cliente.\n",
    "\n",
    "**Descripción del Algoritmo K-means**\n",
    "\n",
    "K-means es un algoritmo de aprendizaje no supervisado que agrupa datos en K clusters o grupos, donde K es un número predefinido. Cada cluster se representa mediante un centroide, que es el promedio de todos los puntos de datos en ese grupo. El algoritmo tiene dos fases principales:\n",
    "\n",
    "1. Asignación de clusters: Cada punto de datos se asigna al centroide más cercano.\n",
    "2. Actualización de centroides: Se recalcula la posición de los centroides basándose en la media de los puntos de datos asignados a cada cluster.\n",
    "\n",
    "Este proceso se repite hasta que los centroides no cambian significativamente o se alcanza un número máximo de iteraciones.\n",
    "\n",
    "**Instrucciones**\n",
    "\n",
    "1. **Carga del Dataset:**\n",
    "  * El dataset contiene información sobre clientes de un centro comercial, como su género, edad, ingresos anuales y puntaje de gasto.\n",
    "  * Utiliza el archivo «Mall_Customers.csv» y cárgalo en tu entorno de trabajo.\n",
    "\n",
    "2. **Selección de Variables:**\n",
    "  * Para este análisis, selecciona las variables ‘Annual Income (k$)’ y ‘Spending Score (1-100)’, ya que representan características importantes relacionadas con el comportamiento de compra.\n",
    "\n",
    "3. **Implementación de K-means:**\n",
    "  * Aplica el algoritmo K-means utilizando diferentes valores de K (por ejemplo, K = 3, 4, 5) y observa cómo se agrupan los clientes.\n",
    "  * Visualiza los resultados utilizando gráficos de dispersión que representen los clusters y los centroides.\n",
    "\n",
    "4. **Elbow Method:**\n",
    "  * Utiliza el método del codo para identificar el número óptimo de clusters. Este método consiste en ejecutar K-means con diferentes valores de K y calcular la suma de errores cuadráticos (SSE). El valor óptimo de K se encuentra donde se produce una disminución significativa en el SSE.\n",
    "\n",
    "5. **Interpretación de Clusters:**\n",
    "  * Una vez obtenidos los clusters, analiza cada grupo. ¿Qué características tienen en común los clientes de cada cluster? ¿Cómo podrías usar esta información para diseñar estrategias de marketing personalizadas?\n",
    "\n",
    "6. **Análisis de Resultados:**\n",
    "  * Discute los resultados obtenidos. ¿Qué insights se pueden extraer de los grupos de clientes identificados? ¿Existen patrones o comportamientos comunes?\n",
    "\n",
    "\n",
    "**Expansión del Algoritmo y Aplicaciones**\n",
    "\n",
    "El algoritmo K-means tiene una amplia gama de aplicaciones en diversas industrias. Algunos ejemplos incluyen:\n",
    "\n",
    "* Segmentación de Clientes: Agrupar a los clientes según su comportamiento de compra o interacción con un producto.\n",
    "* Compresión de Imágenes: Reducir el número de colores en una imagen agrupando píxeles similares.\n",
    "* Agrupación de Documentos: Clasificar documentos en función de su similitud textual.\n",
    "\n",
    "En esta actividad, el enfoque está en la segmentación de clientes para un centro comercial, pero el mismo algoritmo puede aplicarse a otros dominios como la biología, el procesamiento de señales y la detección de anomalías.\n",
    "\n"
   ]
  }
 ],
 "metadata": {
  "language_info": {
   "name": "python"
  }
 },
 "nbformat": 4,
 "nbformat_minor": 2
}
