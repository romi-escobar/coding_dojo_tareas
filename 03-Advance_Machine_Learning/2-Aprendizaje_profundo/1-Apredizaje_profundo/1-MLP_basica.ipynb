{
 "cells": [
  {
   "cell_type": "markdown",
   "metadata": {},
   "source": [
    "# **MLP Básica (Core)**\n",
    " **Descripción:**\n",
    "En esta actividad, implementarás una red neuronal de perceptrón multicapa (MLP) básica utilizando el dataset «Breast Cancer Wisconsin (Diagnostic)» disponible en Kaggle. Este dataset es adecuado para la clasificación binaria, donde la red MLP predecirá si un tumor es benigno o maligno basado en una serie de características.\n",
    "\n",
    "**Enlace al dataset:** https://www.kaggle.com/uciml/breast-cancer-wisconsin-data\n",
    "\n",
    "**Objetivo:**\n",
    "\n",
    "El objetivo de la actividad es implementar una red MLP básica con una capa oculta, entrenarla en el dataset de cáncer de mama y evaluar su rendimiento en términos de precisión y otras métricas de clasificación.\n",
    "\n",
    "**Instrucciones:**\n",
    "\n",
    "1. **Carga de datos:**\n",
    "  * Descarga y carga el dataset desde Kaggle. Observa las características disponibles, que incluyen variables como el radio del núcleo del tumor, la textura, la suavidad, entre otras.\n",
    "  * Asegúrate de verificar si hay valores nulos y manejar cualquier valor atípico que pudiera estar presente.\n",
    "\n",
    "2. **Exploración y preprocesamiento de datos:**\n",
    "  * Realiza una normalización de los datos para asegurar que todas las características se encuentren en el mismo rango y mejoren el rendimiento de la red neuronal.\n",
    "  * Divide el dataset en conjuntos de entrenamiento y prueba (por ejemplo, 80% entrenamiento y 20% prueba).\n",
    "\n",
    "3. **Implementación de la MLP:**\n",
    "  * Implementa una red MLP utilizando Keras o cualquier otra biblioteca de deep learning. La red debe tener una capa de entrada que coincida con el número de características del dataset, una capa oculta con al menos 32 neuronas y una capa de salida con una única neurona usando la función de activación sigmoide para la clasificación binaria.\n",
    "  * Utiliza la función de pérdida binaria (binary_crossentropy) y el optimizador Adam.\n",
    "\n",
    "4. **Entrenamiento del modelo:**\n",
    "  * Entrena la red en el conjunto de entrenamiento durante al menos 50 épocas. Asegúrate de monitorizar la pérdida y la precisión tanto en el conjunto de entrenamiento como en el conjunto de validación.\n",
    "  * Visualiza las curvas de aprendizaje que muestran cómo evolucionan la pérdida y la precisión durante el entrenamiento.\n",
    "\n",
    "5. **Evaluación del modelo:**\n",
    "  * Evalúa el modelo en el conjunto de prueba utilizando métricas como la precisión, el recall, la F1-score y la matriz de confusión.\n",
    "  * Discute si la red MLP básica es adecuada para este tipo de datos y cómo podría mejorarse."
   ]
  }
 ],
 "metadata": {
  "language_info": {
   "name": "python"
  }
 },
 "nbformat": 4,
 "nbformat_minor": 2
}
