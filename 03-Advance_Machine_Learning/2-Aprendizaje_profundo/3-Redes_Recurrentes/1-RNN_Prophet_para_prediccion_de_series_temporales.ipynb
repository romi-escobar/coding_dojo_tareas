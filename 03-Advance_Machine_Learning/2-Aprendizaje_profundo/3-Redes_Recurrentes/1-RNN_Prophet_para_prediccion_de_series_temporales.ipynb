{
 "cells": [
  {
   "cell_type": "markdown",
   "metadata": {},
   "source": [
    "# **Redes Neuronales Recurrentes y Prophet para Predicción de Series Temporales (Core)**\n",
    "**Descripción:**\n",
    "\n",
    "En este ejercicio, implementarás una red neuronal recurrente (RNN) utilizando LSTM para predecir valores futuros en una serie temporal. Además, se te pide que explores el uso de la herramienta Prophet, un modelo de predicción de series temporales desarrollado por Facebook, y compares los resultados obtenidos con los de la RNN.\n",
    "\n",
    "**Objetivo:**\n",
    "\n",
    "El objetivo es predecir los valores futuros de una serie temporal utilizando redes recurrentes y comparar su rendimiento con Prophet. Este ejercicio te permitirá explorar dos enfoques distintos para la predicción de series temporales.\n",
    "\n",
    "**Instrucciones:**\n",
    "\n",
    "1. **Selección del dataset:**\n",
    "  – Utiliza un dataset de series temporales de Kaggle, como el de «Air Quality Prediction» o cualquier otro relacionado con predicción de demanda, precios de acciones, etc. Puedes elegir el dataset que más se relacione con tus intereses.\n",
    "  – Enlace sugerido: [Air Quality Prediction](https://www.kaggle.com/competitions/air-quality-prediction)\n",
    "\n",
    "2. **Preprocesamiento de datos:**\n",
    "  – Realiza una exploración inicial de la serie temporal, incluyendo la visualización de la tendencia y la estacionalidad si es aplicable.\n",
    "  – Realiza un escalado de los datos, ya que las redes neuronales recurrentes se benefician de que los datos estén en un rango similar.\n",
    "\n",
    "3. **Implementación de RNN con LSTM:**\n",
    "  – Implementa una red LSTM para predecir la serie temporal. Utiliza una arquitectura simple con una capa LSTM y una capa densa para predecir el valor futuro de la serie temporal.\n",
    "  – Asegúrate de dividir los datos en conjuntos de entrenamiento y prueba, utilizando las primeras partes de la serie para entrenar el modelo y las últimas partes para probar la precisión de las predicciones.\n",
    "\n",
    "4. **Uso de Prophet:**\n",
    "  – Instala y utiliza Prophet para predecir la misma serie temporal. Prophet es un modelo que maneja fácilmente tendencias y estacionalidades, por lo que es ideal para comparación con redes recurrentes.\n",
    "  – Entrena Prophet con los mismos datos que utilizaste para la red LSTM y realiza predicciones en el conjunto de prueba.\n",
    "\n",
    "5. **Comparación de resultados:**\n",
    "  – Compara las predicciones de la red LSTM con las predicciones de Prophet. Utiliza métricas como el RMSE (Root Mean Squared Error) o el MAE (Mean Absolute Error) para medir la precisión de ambos modelos.\n",
    "  – Visualiza las predicciones de ambos modelos superpuestas a la serie temporal original para ver cuál se ajusta mejor a los datos.\n",
    "\n",
    "6. **Análisis y discusión:**\n",
    "  – Discute cuál de los modelos ofrece mejores resultados en este caso particular. ¿Por qué crees que Prophet o la red LSTM tuvieron un mejor rendimiento?\n",
    "  – Reflexiona sobre las ventajas y desventajas de cada enfoque para la predicción de series temporales."
   ]
  }
 ],
 "metadata": {
  "language_info": {
   "name": "python"
  }
 },
 "nbformat": 4,
 "nbformat_minor": 2
}
