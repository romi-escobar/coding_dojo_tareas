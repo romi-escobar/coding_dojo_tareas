{
 "cells": [
  {
   "cell_type": "markdown",
   "id": "bc4fd980",
   "metadata": {},
   "source": [
    "# **Examen de cinturón AML * Opción A**\n",
    "**Descripción del examen:**\n",
    "En este examen, trabajarás con un dataset reciente de complejidad baja, donde primero realizarás un análisis no supervisado utilizando K-means o PCA, y luego modelarás el conjunto de datos utilizando un Perceptrón Multicapa (MLP). El objetivo es aplicar técnicas de clustering o reducción de dimensionalidad para analizar los datos, seguido de la implementación de un modelo MLP para realizar predicciones.\n",
    "\n",
    "**Dataset:**\n",
    "El dataset utilizado para este examen es el “Customer Personality Analysis” disponible en Kaggle. Este conjunto de datos contiene información demográfica y de comportamiento de clientes, con el objetivo de agruparlos y predecir sus patrones de compra.\n",
    "**Enlace al dataset:** https://www.kaggle.com/imakash3011/customer-personality-analysis \n",
    "\n",
    "**Instrucciones:**\n",
    "1. **Exploración y preprocesamiento de datos:**\n",
    "  * Carga y explora el dataset para identificar las variables más relevantes. Las características incluyen información demográfica como la edad, el ingreso, el estado civil, y datos de comportamiento de compra, como la cantidad gastada en diferentes productos.\n",
    "  * Asegúrate de manejar los valores nulos y realizar un preprocesamiento adecuado, como la normalización de los datos para el análisis posterior.\n",
    "\n",
    "2. **Análisis no supervisado:**\n",
    "  * Selecciona un enfoque de análisis no supervisado: K-means o PCA.\n",
    "    * **K-means:** Si seleccionas K-means, determina el número óptimo de clusters utilizando el método del codo o el silhouette score. Agrupa a los clientes en diferentes clusters y analiza cómo se dividen según sus características demográficas y de compra.\n",
    "    * **PCA:** Si eliges PCA, realiza una reducción de dimensionalidad para capturar al menos el 90% de la varianza explicada. Proyecta los datos en los primeros componentes principales y visualiza cómo se agrupan los clientes en el nuevo espacio de características.\n",
    "\n",
    "3. **Modelado con MLP:**\n",
    "  * Implementa un Perceptrón Multicapa (MLP) para predecir las compras futuras de los clientes o su probabilidad de realizar una compra en una categoría específica de productos.\n",
    "  * Divide el dataset en conjuntos de entrenamiento y prueba, asegurándote de tener una proporción adecuada de cada clase en el conjunto de datos.\n",
    "  * Discute la arquitectura de tu MLP, incluyendo el número de capas ocultas, el número de neuronas en cada capa, y las funciones de activación utilizadas.\n",
    "\n",
    "4. **Evaluación del modelo:**\n",
    "  * Evalúa el modelo MLP utilizando métricas de clasificación como la precisión, el recall, el F1-score y la matriz de confusión. Asegúrate de comparar estas métricas entre el conjunto de entrenamiento y el conjunto de prueba para identificar cualquier posible sobreajuste.\n",
    "  * Visualiza las curvas de aprendizaje que muestren la pérdida y la precisión a lo largo del entrenamiento.\n",
    "\n",
    "5. **Discusión y análisis:**\n",
    "  * Reflexiona sobre los resultados del análisis no supervisado y el modelo MLP. ¿Qué insights obtuviste de los clusters o los componentes principales? ¿Cómo se relacionan con el comportamiento de los clientes?\n",
    "  * Discute el rendimiento del modelo MLP. ¿Es adecuado para este tipo de datos? ¿Cómo podrías mejorarlo?\n",
    "\n",
    "6. **Entrega final:**\n",
    "  * Entrega un informe detallado que incluya todas las etapas del examen: preprocesamiento de datos, análisis no supervisado, modelado MLP, evaluación del modelo y conclusiones. Asegúrate de que el informe sea claro y estructurado, con visualizaciones que apoyen tu análisis."
   ]
  }
 ],
 "metadata": {
  "language_info": {
   "name": "python"
  }
 },
 "nbformat": 4,
 "nbformat_minor": 5
}
