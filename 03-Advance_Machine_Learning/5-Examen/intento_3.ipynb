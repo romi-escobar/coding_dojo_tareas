{
 "cells": [
  {
   "cell_type": "markdown",
   "id": "d764b472",
   "metadata": {},
   "source": [
    "# **Examen de cinturón AML * Opción E**\n",
    "**Descripción**\n",
    "\n",
    "Este examen requiere que realices un análisis no supervisado del dataset utilizando K-means o PCA y, posteriormente, implementes una red neuronal convolucional (CNN) para abordar una tarea de clasificación de imágenes. El dataset seleccionado es el “Intel Image Classification” disponible en Kaggle, que contiene imágenes de diversas categorías relacionadas con diferentes terrenos.\n",
    "\n",
    "**Enlace al dataset:** https://www.kaggle.com/puneet6060/intel-image-classification\n",
    "\n",
    "**Objetivo**\n",
    "\n",
    "El examen está dividido en dos partes: en la primera, realizarás un análisis no supervisado para explorar los datos. En la segunda, implementarás un modelo CNN para clasificar las imágenes y analizarás los resultados obtenidos.\n",
    "\n",
    "**Parte 1: Análisis No Supervisado (K-means o PCA)**\n",
    "\n",
    "1. **Carga y Exploración de Datos:**\n",
    "  * Descarga el dataset “Intel Image Classification” y realiza una exploración inicial. El dataset contiene imágenes que representan diferentes tipos de terreno, como montañas, desiertos, bosques, entre otros.\n",
    "  * Explora el tamaño del dataset, las dimensiones de las imágenes y las características principales.\n",
    "\n",
    "2. **Preprocesamiento de los Datos:**\n",
    "  * Realiza un preprocesamiento básico de las imágenes, incluyendo el redimensionamiento de las mismas y la normalización.\n",
    "  * En este caso, las imágenes pueden ser vectorizadas (convertidas en un formato numérico) para ser usadas en los métodos de análisis no supervisado.\n",
    "\n",
    "3. **Implementación de K-means o PCA:**\n",
    "  * Aplica K-means o PCA a las imágenes vectorizadas para agruparlas en diferentes clusters o reducir la dimensionalidad.\n",
    "  * Si usas K-means, experimenta con diferentes valores de k para identificar el número óptimo de clusters.\n",
    "  * Si optas por PCA, analiza cuántos componentes principales capturan la mayor parte de la variabilidad de los datos.\n",
    "\n",
    "4. **Visualización e Interpretación:**\n",
    "  * Visualiza los resultados de los clusters o componentes principales. ¿Qué patrones emergen en los datos? ¿Se agrupan las imágenes de una manera que tiene sentido visualmente?\n",
    "  * Discute los resultados y cómo podrían influir en el siguiente paso del modelo supervisado.\n",
    "\n",
    "**Parte 2: Implementación de CNN**\n",
    "\n",
    "1. **Arquitectura de la Red Convolucional:**\n",
    "  * Implementa una red CNN con varias capas convolucionales, seguidas de capas de pooling y densas. La arquitectura debe ser adecuada para la clasificación de imágenes de alta dimensionalidad.\n",
    "  * Utiliza funciones de activación ReLU en las capas convolucionales y softmax en la capa de salida.\n",
    "\n",
    "2. **Entrenamiento del Modelo:**\n",
    "  * Entrena el modelo utilizando el conjunto de datos de imágenes de entrenamiento. Asegúrate de monitorizar la pérdida y la precisión tanto en el conjunto de entrenamiento como en el de validación.\n",
    "  * Visualiza las curvas de aprendizaje para evaluar el progreso del modelo.\n",
    "\n",
    "3. **Evaluación del Modelo:**\n",
    "  * Evalúa el modelo en el conjunto de datos de prueba y mide el rendimiento utilizando métricas como la precisión, el recall y el F1-score.\n",
    "  * Discute los errores comunes y cómo se comportan los diferentes tipos de terreno en las predicciones.\n",
    "\n",
    "4. **Visualización de Resultados:**\n",
    "  * Crea una visualización de algunas predicciones del modelo, mostrando las imágenes correctamente clasificadas y aquellas que fueron mal clasificadas.\n",
    "  * Analiza los posibles motivos de los errores de clasificación y cómo podrían mejorarse con ajustes en la arquitectura de la red o el preprocesamiento de los datos."
   ]
  }
 ],
 "metadata": {
  "language_info": {
   "name": "python"
  }
 },
 "nbformat": 4,
 "nbformat_minor": 5
}
