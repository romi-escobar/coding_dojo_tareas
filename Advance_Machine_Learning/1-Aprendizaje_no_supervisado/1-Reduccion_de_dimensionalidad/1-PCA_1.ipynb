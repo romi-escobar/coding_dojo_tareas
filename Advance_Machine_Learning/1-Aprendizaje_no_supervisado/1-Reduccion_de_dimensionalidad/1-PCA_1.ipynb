{
 "cells": [
  {
   "cell_type": "markdown",
   "metadata": {},
   "source": [
    "Descripción\n",
    "PCA (Core)\n",
    "Reducción de Dimensionalidad\n",
    "\n",
    "Descripción:\n",
    "\n",
    "En esta actividad, aplicarás el Análisis de Componentes Principales (PCA) para reducir la dimensionalidad de un conjunto de datos grande. Utilizaremos el dataset «Wine Quality» disponible en Kaggle, que contiene variables químicas que influyen en la calidad del vino. PCA te permitirá reducir el número de características sin perder mucha información.\n",
    "\n",
    "Enlace al dataset: https://www.kaggle.com/uciml/red-wine-quality-cortez-et-al-2009\n",
    "\n",
    "\n",
    "\n",
    "Objetivo:\n",
    "\n",
    "El objetivo principal es utilizar PCA para reducir la dimensionalidad del dataset, identificar los componentes principales, y analizar cómo contribuyen a la variabilidad de los datos. Esto facilitará la comprensión del conjunto de datos y permitirá crear modelos más eficientes.\n",
    "\n",
    "\n",
    "\n",
    "Instrucciones:\n",
    "\n",
    "1. Carga de datos:\n",
    "  – Descarga y carga el dataset «Wine Quality» de Kaggle. Examina el contenido del dataset y verifica las variables químicas que afectan la calidad del vino.\n",
    "  – El dataset contiene 12 variables como el nivel de acidez, el pH, el contenido de alcohol, entre otras.\n",
    "\n",
    "2. Exploración y preprocesamiento de datos:\n",
    "  – Realiza una exploración inicial del dataset. Revisa los valores nulos, los rangos de las variables y cualquier valor atípico que pueda afectar el rendimiento de PCA.\n",
    "  – Normaliza las variables, ya que PCA es sensible a las escalas de las características. Esto asegura que las variables tengan una contribución equitativa en la formación de los componentes principales.\n",
    "\n",
    "3. Aplicación de PCA:\n",
    "  – Implementa PCA en el dataset para reducir la dimensionalidad. Determina cuántos componentes principales se necesitan para capturar al menos el 90% de la variabilidad de los datos.\n",
    "  – Visualiza el gráfico de «explained variance» para mostrar cómo cada componente principal contribuye a la variabilidad total de los datos.\n",
    "\n",
    "4. Interpretación de los componentes principales:\n",
    "  – Analiza los coeficientes de cada componente principal para identificar qué variables tienen la mayor influencia en cada uno de ellos.\n",
    "  – Discute cómo la reducción de dimensionalidad mediante PCA puede simplificar la construcción de modelos predictivos al eliminar redundancia en las características.\n",
    "\n",
    "5. Visualización y comparación:\n",
    "  – Visualiza los datos proyectados en los primeros dos componentes principales utilizando un gráfico de dispersión.\n",
    "  – Si el dataset tiene etiquetas de clase (como la calidad del vino), observa cómo se distribuyen las clases en el espacio de los componentes principales.\n",
    "\n",
    "\n",
    "\n",
    "Análisis de Resultados:\n",
    "\n",
    "  – Realiza un análisis detallado sobre cuántos componentes principales son necesarios para capturar una cantidad significativa de variabilidad. Discute la importancia de las variables que más contribuyen a los primeros componentes.\n",
    "  – Explica cómo PCA puede ser útil para mejorar el rendimiento de los modelos de machine learning en datasets con muchas características.\n",
    "\n",
    "\n",
    "\n",
    "Conclusión:\n",
    "\n",
    "  – Esta actividad tiene como objetivo principal aplicar PCA para la reducción de dimensionalidad en un dataset real. Al reducir la dimensionalidad, PCA facilita la creación de modelos más interpretables y eficientes."
   ]
  }
 ],
 "metadata": {
  "language_info": {
   "name": "python"
  }
 },
 "nbformat": 4,
 "nbformat_minor": 2
}
