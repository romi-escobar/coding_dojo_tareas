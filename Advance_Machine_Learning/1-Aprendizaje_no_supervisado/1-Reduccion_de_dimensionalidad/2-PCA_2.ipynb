{
 "cells": [
  {
   "cell_type": "markdown",
   "metadata": {},
   "source": [
    "Descripción\n",
    "PCA 2 (Core)\n",
    "Visualización de Datos con Componentes Principales\n",
    "\n",
    "Descripción:\n",
    "\n",
    "En esta actividad, utilizarás el Análisis de Componentes Principales (PCA) para visualizar datos en un espacio de menor dimensionalidad. Trabajarás con el famoso dataset «Iris» para reducir sus características a dos componentes principales y visualizar cómo se distribuyen las diferentes clases en este nuevo espacio de características.\n",
    "\n",
    "Enlace al dataset: https://www.kaggle.com/uciml/iris\n",
    "\n",
    "\n",
    "\n",
    "Objetivo:\n",
    "\n",
    "El objetivo es reducir la dimensionalidad del dataset «Iris» mediante PCA, visualizando las clases en el nuevo espacio bidimensional y evaluando si los componentes principales son capaces de capturar adecuadamente la variabilidad de los datos.\n",
    "\n",
    "\n",
    "\n",
    "Instrucciones:\n",
    "\n",
    "1. Carga de datos:\n",
    "  – Descarga el dataset «Iris» de Kaggle. Examina las características disponibles, que incluyen el largo y ancho de los sépalos y pétalos de tres especies de flores.\n",
    "  – Asegúrate de que los datos no contengan valores nulos o atípicos.\n",
    "\n",
    "2. Exploración y preprocesamiento de datos:\n",
    "  – Realiza una normalización de los datos, ya que PCA requiere que las características tengan la misma escala para funcionar de manera efectiva.\n",
    "  – Observa la distribución inicial de las variables mediante gráficos de dispersión o histogramas.\n",
    "\n",
    "3. Aplicación de PCA:\n",
    "  – Implementa PCA para reducir las cuatro dimensiones del dataset «Iris» a solo dos componentes principales.\n",
    "  – Calcula la «explained variance» para estos dos componentes y discute qué porcentaje de la variabilidad total de los datos está capturada en el espacio bidimensional.\n",
    "\n",
    "4. Visualización de los componentes principales:\n",
    "  – Proyecta los datos en el espacio bidimensional formado por los dos primeros componentes principales.\n",
    "  – Utiliza diferentes colores para representar cada una de las tres clases de flores en el gráfico y observa cómo se agrupan las clases en el espacio de los componentes principales.\n",
    "\n",
    "5. Interpretación de los resultados:\n",
    "  – Analiza los coeficientes de los dos componentes principales y explica qué variables tienen la mayor influencia en estos.\n",
    "  – Discute si PCA es capaz de separar correctamente las clases y cómo este análisis puede mejorar la comprensión de los datos.\n",
    "\n",
    "Análisis de Resultados:\n",
    "\n",
    "  – Compara la distribución de las clases en el espacio bidimensional con la distribución original de las variables. ¿Qué tan bien puede PCA capturar las relaciones entre las clases en este caso?\n",
    "  – Realiza un reporte que incluya el gráfico de los componentes principales y discute la utilidad de PCA para la visualización de datos en problemas de clasificación.\n",
    "\n",
    "Conclusión:\n",
    "\n",
    "  – Esta actividad se centra en la visualización de datos utilizando PCA. La reducción de dimensionalidad mediante PCA no solo ayuda a visualizar los datos en un espacio más pequeño, sino que también permite identificar las relaciones entre las variables y las clases."
   ]
  }
 ],
 "metadata": {
  "language_info": {
   "name": "python"
  }
 },
 "nbformat": 4,
 "nbformat_minor": 2
}
