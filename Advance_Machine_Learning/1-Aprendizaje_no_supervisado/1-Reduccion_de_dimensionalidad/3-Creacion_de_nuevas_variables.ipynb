{
 "cells": [
  {
   "cell_type": "markdown",
   "metadata": {},
   "source": [
    "Descripción\n",
    "Ingeniería de Características: Creación de Nuevas Variables (Core)\n",
    "Descripción:\n",
    "\n",
    "En esta actividad, trabajarás con el dataset «Titanic – Machine Learning from Disaster» disponible en Kaggle para realizar ingeniería de características. El objetivo es crear nuevas variables a partir de las existentes y evaluar cómo estas nuevas características pueden mejorar la capacidad predictiva de un modelo de machine learning.\n",
    "\n",
    "Enlace al dataset: https://www.kaggle.com/c/titanic\n",
    "\n",
    "Objetivo:\n",
    "\n",
    "El objetivo principal es desarrollar habilidades en la creación de nuevas variables que capturen información útil no presente en las variables originales. Estas nuevas características serán utilizadas para mejorar el rendimiento de un modelo de clasificación que prediga la supervivencia de los pasajeros del Titanic.\n",
    "\n",
    "\n",
    "Instrucciones:\n",
    "\n",
    "1. Carga de datos:\n",
    "  – Descarga y carga el dataset «Titanic» desde Kaggle. Realiza una exploración inicial de las variables disponibles, que incluyen información sobre la edad, el género, la clase del pasajero, entre otros.\n",
    "  – Examina cuántos valores faltan en las variables importantes como la edad y el precio del boleto.\n",
    "\n",
    "2. Exploración y preprocesamiento de datos:\n",
    "  – Realiza una limpieza de los datos, manejando los valores nulos. Por ejemplo, puedes imputar los valores faltantes de la edad con la mediana o la media según sea conveniente.\n",
    "  – Revisa la distribución de las variables y asegúrate de que las categorías estén codificadas correctamente para el modelado.\n",
    "\n",
    "3. Creación de nuevas características:\n",
    "  – Crea nuevas variables a partir de las existentes. Algunas ideas incluyen:\n",
    "    – Tamaño de la familia: Combina las variables «SibSp» (número de hermanos/esposos) y «Parch» (número de padres/hijos) para crear una variable que represente el tamaño total de la familia del pasajero.\n",
    "    – Cabina desconocida: Crea una variable binaria que indique si la cabina de un pasajero es conocida o no, lo cual podría estar relacionado con la clase o la ubicación a bordo.\n",
    "    – Categoría de tarifa: Agrupa la variable «Fare» en diferentes rangos para crear una variable categórica que represente el nivel de costo del boleto.\n",
    "    – Título del pasajero: Extrae el título de cada pasajero desde la variable «Name» y crea una nueva variable categórica que represente estos títulos (e.g., Mr., Mrs., Miss.).\n",
    "\n",
    "4. Evaluación de nuevas características:\n",
    "  – Aplica un modelo de machine learning (como un modelo de regresión logística o un árbol de decisión) antes y después de agregar las nuevas características para evaluar su impacto en el rendimiento del modelo.\n",
    "  – Utiliza métricas como la exactitud y el F1-score para comparar el rendimiento con y sin las nuevas variables.\n",
    "\n",
    "5. Interpretación de los resultados:\n",
    "  – Analiza cuáles de las nuevas características tuvieron el mayor impacto en el rendimiento del modelo. ¿Cómo ayudaron a mejorar la capacidad predictiva del modelo en comparación con las variables originales?\n",
    "  – Discute cómo las nuevas características creadas representan una mejor captura de la información sobre los pasajeros.\n",
    "\n",
    "\n",
    "Análisis de Resultados:\n",
    "\n",
    "  – El análisis debe centrarse en la importancia de las nuevas variables y su capacidad para mejorar la predicción de la supervivencia en el Titanic. Discute los beneficios de realizar ingeniería de características y cómo estas nuevas variables pueden capturar información latente en los datos originales."
   ]
  }
 ],
 "metadata": {
  "language_info": {
   "name": "python"
  }
 },
 "nbformat": 4,
 "nbformat_minor": 2
}
