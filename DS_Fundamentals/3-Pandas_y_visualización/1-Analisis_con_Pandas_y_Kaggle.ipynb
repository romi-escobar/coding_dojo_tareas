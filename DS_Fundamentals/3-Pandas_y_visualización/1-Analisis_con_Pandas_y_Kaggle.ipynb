{
 "cells": [
  {
   "cell_type": "markdown",
   "metadata": {},
   "source": [
    "Analisis con Pandas y Kaggle (Core)\n",
    "\n",
    "El objetivo de esta actividad es poner en práctica todos los conocimientos adquiridos sobre Pandas a través del análisis completo de un dataset. Los estudiantes deben aplicar técnicas de carga, exploración, limpieza, transformación, y agregación de datos para extraer insights valiosos. La actividad no incluye visualización de datos, enfocándose únicamente en el análisis y manipulación de datos con Pandas.\n",
    "\n",
    "Instrucciones\n",
    "\n",
    "Preparación del Entorno\n",
    "Asegúrate de tener instalado Pandas en tu entorno de trabajo.\n",
    "Descarga el archivo dataset.csv desde Kaggle. Elige un dataset que te interese y que no incluya visualización de datos. Algunas sugerencias pueden ser datasets relacionados con ventas, compras, productos, etc.\n",
    "Cargar los Datos\n",
    "Carga el archivo CSV en un DataFrame de Pandas.\n",
    "Muestra las primeras 10 filas del DataFrame para confirmar que los datos se han cargado correctamente.\n",
    "Exploración Inicial de los Datos\n",
    "Muestra las últimas 5 filas del DataFrame.\n",
    "Utiliza el método info() para obtener información general sobre el DataFrame, incluyendo el número de entradas, nombres de las columnas, tipos de datos y memoria utilizada.\n",
    "Genera estadísticas descriptivas del DataFrame utilizando el método describe().\n",
    "Limpieza de Datos\n",
    "Identifica y maneja los datos faltantes utilizando técnicas apropiadas (relleno con valores estadísticos, interpolación, eliminación, etc.).\n",
    "Corrige los tipos de datos si es necesario (por ejemplo, convertir cadenas a fechas).\n",
    "Elimina duplicados si los hay.\n",
    "Transformación de Datos\n",
    "Crea nuevas columnas basadas en operaciones con las columnas existentes (por ejemplo, calcular ingresos a partir de ventas y precios).\n",
    "Normaliza o estandariza columnas si es necesario.\n",
    "Clasifica los datos en categorías relevantes.\n",
    "Análisis de Datos\n",
    "Realiza agrupaciones de datos utilizando groupby para obtener insights específicos (por ejemplo, ventas por producto, ventas por región, etc.).\n",
    "Aplica funciones de agregación como sum, mean, count, min, max, std, y var.\n",
    "Utiliza el método apply para realizar operaciones más complejas y personalizadas.\n",
    "Documentación\n",
    "Documenta claramente cada paso del análisis, explicando qué se hizo y por qué se hizo.\n",
    "Asegúrate de que el código sea legible y esté bien comentado."
   ]
  }
 ],
 "metadata": {
  "language_info": {
   "name": "python"
  }
 },
 "nbformat": 4,
 "nbformat_minor": 2
}
