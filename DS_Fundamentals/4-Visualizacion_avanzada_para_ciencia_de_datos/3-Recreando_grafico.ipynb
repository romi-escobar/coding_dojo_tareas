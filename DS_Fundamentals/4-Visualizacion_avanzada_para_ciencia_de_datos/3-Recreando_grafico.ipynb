{
 "cells": [
  {
   "cell_type": "markdown",
   "metadata": {},
   "source": [
    "Descripción\n",
    "Recreando gráfico (Core)\n",
    "Reproducir un Gráfico Completo\n",
    "\n",
    "En este ejercicio, los estudiantes deberán reproducir un gráfico completo de Seaborn basado en una imagen del gráfico terminado. El gráfico incluirá elementos como cuadrículas, leyendas, anotaciones y flechas.\n",
    "\n",
    "Imagen del Gráfico Terminado\n",
    "\n",
    "Código del Gráfico (Con Partes Eliminadas)\n",
    "\n",
    "El siguiente código tiene partes eliminadas. El estudiante debe completar el código para reproducir el gráfico mostrado en la imagen.\n",
    "\n",
    "import seaborn as sns\n",
    "import matplotlib.pyplot as plt\n",
    "\n",
    "# Cargar el dataset\n",
    "df = sns.load_dataset('tips')\n",
    "\n",
    "# Crear una figura y un eje\n",
    "fig, ax = plt.subplots(figsize=(12, 6))\n",
    "\n",
    "# Gráfico de dispersión con cuadrícula, leyenda, anotaciones y flechas\n",
    "sns.scatterplot(data=df, x='total_bill', y='tip', hue=_____, style=_____, s=_____, ax=_____)\n",
    "ax.set_title('Relación entre Total Bill y Tip con Anotaciones y Flechas', fontsize=20)\n",
    "ax.set_xlabel('Total Bill ($)', fontsize=15)\n",
    "ax.set_ylabel('Tip ($)', fontsize=15)\n",
    "ax.legend(loc='upper right', fontsize='large', shadow=True, title='Detalles')\n",
    "\n",
    "# Añadir cuadrícula\n",
    "ax.grid(True, which=_____, linestyle=_____, linewidth=_____, color='_____')\n",
    "\n",
    "# Añadir anotación\n",
    "ax.annotate('Mayor tip en la cena', xy=(_____, _____), xytext=(_____, _____),\n",
    "            arrowprops=dict(facecolor='black', shrink=0.05))\n",
    "\n",
    "# Añadir flecha\n",
    "ax.arrow(_____, _____, _____, _____, head_width=0.8, head_length=0.5, fc='green', ec='green')\n",
    "\n",
    "# Mostrar el gráfico\n",
    "plt.show()\n",
    "Instrucciones\n",
    "\n",
    "Carga del Dataset: Usa la función sns.load_dataset(‘tips’) para cargar el dataset de ejemplo ‘tips’ de Seaborn.\n",
    "Creación de la Figura y el Eje: Utiliza plt.subplots para crear una figura de tamaño adecuado.\n",
    "Gráfico de Dispersión: Completa la llamada a sns.scatterplot añadiendo las columnas correctas para los parámetros hue, style y s, y asegúrate de asignar el gráfico al eje correcto (ax).\n",
    "Cuadrícula: Asegúrate de que la cuadrícula esté configurada correctamente utilizando los parámetros which, linestyle, linewidth y color.\n",
    "Anotaciones: Completa las coordenadas xy y xytext para ubicar la anotación correctamente.\n",
    "Flechas: Completa las coordenadas iniciales y la dirección de la flecha con los valores correctos."
   ]
  }
 ],
 "metadata": {
  "language_info": {
   "name": "python"
  }
 },
 "nbformat": 4,
 "nbformat_minor": 2
}
