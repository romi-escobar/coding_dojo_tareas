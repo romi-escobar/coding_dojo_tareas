{
 "cells": [
  {
   "cell_type": "markdown",
   "metadata": {},
   "source": [
    "Proyecto 1-Parte V (Core)\n",
    "Análisis y Predicción de Ventas en una Tienda de Retail\n",
    "\n",
    "\n",
    "Parte V: Exploración y Visualización de Datos Avanzada\n",
    "\n",
    "En esta quinta parte del proyecto, vamos a expandir nuestro análisis exploratorio de datos (EDA) y visualización utilizando técnicas avanzadas. Aplicaremos todo lo que hemos aprendido hasta ahora, incluyendo cuadrículas, leyendas, anotaciones, flechas, y subplots, para obtener una comprensión más profunda de nuestro conjunto de datos de ventas.\n",
    "\n",
    "Instrucciones\n",
    "\n",
    "Continuar desde la Parte IV\n",
    "Asegúrate de tener el DataFrame df ya cargado y preparado desde la Parte IV.\n",
    "Exploración de Datos Avanzada\n",
    "Realiza un análisis de correlación y crea un mapa de calor para visualizar las relaciones entre las variables.\n",
    "Crea subplots para comparar diferentes variables clave.\n",
    "Añade cuadrículas, leyendas, anotaciones y flechas a tus gráficos para mejorar la claridad y la información.\n",
    "Generar un Tag en GitHub y Realizar una Presentación\n",
    "Generar un Tag en GitHub: Después de completar el análisis y las visualizaciones, sube los cambios a una nueva rama en tu repositorio de GitHub, genera un Pull Request (PR) para revisión y finalmente crea un tag para esta versión del proyecto.\n",
    "Realizar una Presentación: Prepara una presentación en slides que resuma tu análisis y visualizaciones. La presentación debe incluir:\n",
    "Introducción y objetivos del proyecto.\n",
    "Descripción del conjunto de datos.\n",
    "Principales análisis y hallazgos.\n",
    "Visualizaciones clave con explicación.\n",
    "Conclusiones y recomendaciones.\n",
    "Utiliza herramientas como PowerPoint, Google Slides o cualquier otra aplicación de presentación."
   ]
  }
 ],
 "metadata": {
  "language_info": {
   "name": "python"
  }
 },
 "nbformat": 4,
 "nbformat_minor": 2
}
