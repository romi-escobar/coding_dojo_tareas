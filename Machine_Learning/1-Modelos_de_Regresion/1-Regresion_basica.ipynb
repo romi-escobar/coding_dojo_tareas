{
 "cells": [
  {
   "cell_type": "markdown",
   "metadata": {},
   "source": [
    "Descripción\n",
    "Ejercicio de Regresión 1 (Core)\n",
    "\n",
    "\n",
    "Objetivo\n",
    "\n",
    " Aplicar los conceptos de regresión lineal para resolver un problema práctico utilizando Python.\n",
    "\n",
    "\n",
    "Descripción del problema: Supongamos que trabajas en una empresa que desea predecir el precio de venta de casas en función de varias características. Tienes un conjunto de datos con información sobre las casas, incluyendo el tamaño de la casa (en pies cuadrados), el número de habitaciones, el número de baños y la antigüedad de la casa (en años). Tu tarea es construir un modelo de regresión lineal que pueda predecir el precio de venta de una casa dada.\n",
    "\n",
    "Instrucciones:\n",
    "\n",
    "Carga de datos: Descarga el archivo de datos house_prices.csv que contiene las siguientes columnas:\n",
    "SqFt: Tamaño de la casa en pies cuadrados.\n",
    "Bedrooms: Número de habitaciones.\n",
    "Bathrooms: Número de baños.\n",
    "price: Precio de venta de la casa.\n",
    "Exploración de datos: Realiza un análisis exploratorio de los datos para entender su estructura y detectar posibles problemas como valores nulos o outliers.\n",
    "Preparación de datos: Divide los datos en un conjunto de entrenamiento (80%) y un conjunto de prueba (20%).\n",
    "Entrenamiento del modelo: Entrena un modelo de regresión lineal utilizando los datos de entrenamiento.\n",
    "Evaluación del modelo: Evalúa el modelo utilizando el conjunto de prueba. Calcula el error cuadrático medio (MSE) y el R-cuadrado (R²) del modelo.\n",
    "Predicción: Usa el modelo entrenado para predecir el precio de una casa con las siguientes características:\n",
    "Tamaño: 2000 pies cuadrados\n",
    "Habitaciones: 3\n",
    "Baños: 2"
   ]
  }
 ],
 "metadata": {
  "language_info": {
   "name": "python"
  }
 },
 "nbformat": 4,
 "nbformat_minor": 2
}
