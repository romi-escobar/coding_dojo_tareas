{
 "cells": [
  {
   "cell_type": "markdown",
   "metadata": {},
   "source": [
    "Descripción\n",
    "Clasificación y Optimización de Hiperparámetros (Core)\n",
    "Objetivo: Implementar un pipeline completo de machine learning para un problema de clasificación utilizando técnicas de preprocesamiento, modelado, y optimización de hiperparámetros. Enfocar especialmente en la limpieza de datos y la optimización utilizando GridSearchCV y RandomizedSearchCV.\n",
    "\n",
    "Dataset: Medical Cost Personal Dataset\n",
    "\n",
    "\n",
    "\n",
    "\n",
    "Descripción del Dataset: El dataset de costos médicos personales contiene información sobre varios factores que afectan los costos de seguros médicos, como la edad, el sexo, el índice de masa corporal, y el hábito de fumar. Este dataset es ideal para practicar técnicas de preprocesamiento y optimización de modelos debido a la presencia de datos sucios y variables tanto categóricas como numéricas.\n",
    "\n",
    "Instrucciones:\n",
    "\n",
    "Carga y Exploración Inicial de Datos:\n",
    "Cargar el dataset desde Kaggle.\n",
    "Realizar una exploración inicial para entender la estructura del dataset y las características disponibles.\n",
    "Identificar y documentar los valores faltantes y outliers en el dataset.\n",
    "Preprocesamiento de Datos:\n",
    "Imputar valores faltantes utilizando técnicas adecuadas (media, mediana, moda, imputación avanzada).\n",
    "Codificar variables categóricas utilizando One-Hot Encoding.\n",
    "Escalar características numéricas utilizando StandardScaler.\n",
    "Implementación de Modelos de Clasificación:\n",
    "Entrenar y evaluar al menos tres modelos de clasificación diferentes: Regresión Logística, K-Nearest Neighbors (KNN), y Árbol de Decisión.\n",
    "Utilizar validación cruzada para evaluar el rendimiento inicial de los modelos.\n",
    "Optimización de Hiperparámetros:\n",
    "Implementar GridSearchCV para optimizar los hiperparámetros de los modelos seleccionados.\n",
    "Implementar RandomizedSearchCV como método alternativo de optimización.\n",
    "Comparar los resultados de GridSearchCV y RandomizedSearchCV para los modelos optimizados.\n",
    "Evaluación de Modelos:\n",
    "Evaluar los modelos optimizados utilizando métricas de rendimiento como exactitud, precisión, recall, F1-Score y ROC-AUC.\n",
    "Generar y analizar la matriz de confusión para los modelos optimizados.\n",
    "Crear y visualizar la curva ROC para evaluar la capacidad del modelo para distinguir entre clases.\n",
    "Documentación y Entrega:\n",
    "Documentar todos los pasos del proceso en un notebook de Jupyter, incluyendo explicaciones detalladas y justificaciones para cada decisión tomada.\n",
    "Subir el notebook y los resultados a un repositorio de GitHub.\n",
    "Crear un tag de liberación (v1.0.0) para esta versión del proyecto en GitHub.\n",
    "\n",
    "\n",
    "Entregables:\n",
    "\n",
    "Notebook de Jupyter con todo el análisis y resultados.\n",
    "Documentación completa del proceso de preprocesamiento, modelado y optimización.\n",
    "Visualizaciones y análisis de las métricas de rendimiento.\n",
    "Repositorio de GitHub con el notebook y los resultados, incluyendo un tag de liberación."
   ]
  }
 ],
 "metadata": {
  "language_info": {
   "name": "python"
  }
 },
 "nbformat": 4,
 "nbformat_minor": 2
}
