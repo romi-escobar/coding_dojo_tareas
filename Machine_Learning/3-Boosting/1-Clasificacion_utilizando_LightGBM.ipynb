{
 "cells": [
  {
   "cell_type": "markdown",
   "metadata": {},
   "source": [
    "Descripción\n",
    "Clasificación utilizando LightGBM (LGBM) (Core)\n",
    "\n",
    "\n",
    "Objetivo\n",
    "\n",
    "Implementar un pipeline completo de machine learning para un problema de clasificación utilizando LightGBM (LGBM). Se hará especial énfasis en el Análisis Exploratorio de Datos (EDA), preprocesamiento, entrenamiento del modelo y optimización de hiperparámetros.\n",
    "\n",
    "Dataset: Loan Prediction Dataset\n",
    "\n",
    "Descripción del Dataset: El dataset de predicción de préstamos contiene información sobre solicitantes de préstamos, como sus ingresos, historial crediticio y otras características personales. El objetivo es predecir si un solicitante será aprobado para un préstamo basándose en estos factores.\n",
    "\n",
    "\n",
    "Instrucciones:\n",
    "\n",
    "Parte 1: Carga y Exploración Inicial de Datos\n",
    "\n",
    "Carga del Dataset:\n",
    "Cargar el dataset desde Kaggle.\n",
    "Exploración Inicial:\n",
    "Revisar la estructura del dataset.\n",
    "Describir las variables y su distribución.\n",
    "Identificar y documentar valores faltantes y outliers.\n",
    "Parte 2: Análisis Exploratorio de Datos (EDA)\n",
    "\n",
    "Análisis Estadístico Descriptivo:\n",
    "Calcular estadísticas descriptivas básicas (media, mediana, desviación estándar, etc.).\n",
    "Analizar la distribución de las variables categóricas.\n",
    "Visualizaciones:\n",
    "Crear histogramas y gráficos de barras para entender la distribución de las variables.\n",
    "Crear un mapa de calor para visualizar las correlaciones entre las variables.\n",
    "Utilizar gráficos de dispersión para identificar posibles relaciones entre las variables.\n",
    "Valores Faltantes y Outliers:\n",
    "Detectar y tratar valores faltantes.\n",
    "Identificar y manejar outliers.\n",
    "Parte 3: Preprocesamiento de Datos\n",
    "\n",
    "Transformación de Columnas:\n",
    "Codificar variables categóricas utilizando One-Hot Encoding.\n",
    "Escalar características numéricas utilizando StandardScaler.\n",
    "División del Conjunto de Datos:\n",
    "Dividir el dataset en conjuntos de entrenamiento y prueba.\n",
    "Parte 4: Implementación de LightGBM (LGBM)\n",
    "\n",
    "Entrenamiento del Modelo:\n",
    "Entrenar un modelo de LGBM con hiperparámetros básicos.\n",
    "Evaluar el modelo utilizando métricas de rendimiento como la exactitud, precisión, recall, F1-Score y ROC-AUC.\n",
    "Optimización de Hiperparámetros:\n",
    "Utilizar GridSearchCV para optimizar los hiperparámetros del modelo de LGBM.\n",
    "Evaluación del Modelo Optimizado:\n",
    "Evaluar el rendimiento del modelo optimizado y compararlo con el modelo inicial."
   ]
  }
 ],
 "metadata": {
  "language_info": {
   "name": "python"
  }
 },
 "nbformat": 4,
 "nbformat_minor": 2
}
